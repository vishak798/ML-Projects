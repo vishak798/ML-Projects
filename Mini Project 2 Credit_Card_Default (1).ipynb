{
 "cells": [
  {
   "cell_type": "markdown",
   "id": "b6a31825",
   "metadata": {},
   "source": [
    "##  Data Loading"
   ]
  },
  {
   "cell_type": "code",
   "execution_count": 277,
   "id": "081a210e",
   "metadata": {},
   "outputs": [],
   "source": [
    "import pandas as pd\n",
    "import numpy as np\n",
    "import seaborn as sns\n",
    "import missingno as msno\n",
    "import matplotlib.pyplot as plt\n",
    "from sklearn.model_selection import GridSearchCV\n",
    "\n",
    "import warnings\n",
    "warnings.filterwarnings('ignore')"
   ]
  },
  {
   "cell_type": "code",
   "execution_count": 278,
   "id": "ff6d5e8c",
   "metadata": {},
   "outputs": [],
   "source": [
    "pd.set_option(\"display.max.columns\", None)"
   ]
  },
  {
   "cell_type": "code",
   "execution_count": 279,
   "id": "5361704b",
   "metadata": {
    "scrolled": true
   },
   "outputs": [
    {
     "data": {
      "text/html": [
       "<div>\n",
       "<style scoped>\n",
       "    .dataframe tbody tr th:only-of-type {\n",
       "        vertical-align: middle;\n",
       "    }\n",
       "\n",
       "    .dataframe tbody tr th {\n",
       "        vertical-align: top;\n",
       "    }\n",
       "\n",
       "    .dataframe thead th {\n",
       "        text-align: right;\n",
       "    }\n",
       "</style>\n",
       "<table border=\"1\" class=\"dataframe\">\n",
       "  <thead>\n",
       "    <tr style=\"text-align: right;\">\n",
       "      <th></th>\n",
       "      <th>ID</th>\n",
       "      <th>LIMIT_BAL</th>\n",
       "      <th>SEX</th>\n",
       "      <th>EDUCATION</th>\n",
       "      <th>MARRIAGE</th>\n",
       "      <th>AGE</th>\n",
       "      <th>PAY_0</th>\n",
       "      <th>PAY_2</th>\n",
       "      <th>PAY_3</th>\n",
       "      <th>PAY_4</th>\n",
       "      <th>PAY_5</th>\n",
       "      <th>PAY_6</th>\n",
       "      <th>BILL_AMT1</th>\n",
       "      <th>BILL_AMT2</th>\n",
       "      <th>BILL_AMT3</th>\n",
       "      <th>BILL_AMT4</th>\n",
       "      <th>BILL_AMT5</th>\n",
       "      <th>BILL_AMT6</th>\n",
       "      <th>PAY_AMT1</th>\n",
       "      <th>PAY_AMT2</th>\n",
       "      <th>PAY_AMT3</th>\n",
       "      <th>PAY_AMT4</th>\n",
       "      <th>PAY_AMT5</th>\n",
       "      <th>PAY_AMT6</th>\n",
       "      <th>defaulted</th>\n",
       "    </tr>\n",
       "  </thead>\n",
       "  <tbody>\n",
       "    <tr>\n",
       "      <th>0</th>\n",
       "      <td>1</td>\n",
       "      <td>20000</td>\n",
       "      <td>2</td>\n",
       "      <td>2</td>\n",
       "      <td>1</td>\n",
       "      <td>24</td>\n",
       "      <td>2</td>\n",
       "      <td>2</td>\n",
       "      <td>-1</td>\n",
       "      <td>-1</td>\n",
       "      <td>-2</td>\n",
       "      <td>-2</td>\n",
       "      <td>3913</td>\n",
       "      <td>3102</td>\n",
       "      <td>689</td>\n",
       "      <td>0</td>\n",
       "      <td>0</td>\n",
       "      <td>0</td>\n",
       "      <td>0</td>\n",
       "      <td>689</td>\n",
       "      <td>0</td>\n",
       "      <td>0</td>\n",
       "      <td>0</td>\n",
       "      <td>0</td>\n",
       "      <td>1</td>\n",
       "    </tr>\n",
       "    <tr>\n",
       "      <th>1</th>\n",
       "      <td>2</td>\n",
       "      <td>120000</td>\n",
       "      <td>2</td>\n",
       "      <td>2</td>\n",
       "      <td>2</td>\n",
       "      <td>26</td>\n",
       "      <td>-1</td>\n",
       "      <td>2</td>\n",
       "      <td>0</td>\n",
       "      <td>0</td>\n",
       "      <td>0</td>\n",
       "      <td>2</td>\n",
       "      <td>2682</td>\n",
       "      <td>1725</td>\n",
       "      <td>2682</td>\n",
       "      <td>3272</td>\n",
       "      <td>3455</td>\n",
       "      <td>3261</td>\n",
       "      <td>0</td>\n",
       "      <td>1000</td>\n",
       "      <td>1000</td>\n",
       "      <td>1000</td>\n",
       "      <td>0</td>\n",
       "      <td>2000</td>\n",
       "      <td>1</td>\n",
       "    </tr>\n",
       "    <tr>\n",
       "      <th>2</th>\n",
       "      <td>3</td>\n",
       "      <td>90000</td>\n",
       "      <td>2</td>\n",
       "      <td>2</td>\n",
       "      <td>2</td>\n",
       "      <td>34</td>\n",
       "      <td>0</td>\n",
       "      <td>0</td>\n",
       "      <td>0</td>\n",
       "      <td>0</td>\n",
       "      <td>0</td>\n",
       "      <td>0</td>\n",
       "      <td>29239</td>\n",
       "      <td>14027</td>\n",
       "      <td>13559</td>\n",
       "      <td>14331</td>\n",
       "      <td>14948</td>\n",
       "      <td>15549</td>\n",
       "      <td>1518</td>\n",
       "      <td>1500</td>\n",
       "      <td>1000</td>\n",
       "      <td>1000</td>\n",
       "      <td>1000</td>\n",
       "      <td>5000</td>\n",
       "      <td>0</td>\n",
       "    </tr>\n",
       "    <tr>\n",
       "      <th>3</th>\n",
       "      <td>4</td>\n",
       "      <td>50000</td>\n",
       "      <td>2</td>\n",
       "      <td>2</td>\n",
       "      <td>1</td>\n",
       "      <td>37</td>\n",
       "      <td>0</td>\n",
       "      <td>0</td>\n",
       "      <td>0</td>\n",
       "      <td>0</td>\n",
       "      <td>0</td>\n",
       "      <td>0</td>\n",
       "      <td>46990</td>\n",
       "      <td>48233</td>\n",
       "      <td>49291</td>\n",
       "      <td>28314</td>\n",
       "      <td>28959</td>\n",
       "      <td>29547</td>\n",
       "      <td>2000</td>\n",
       "      <td>2019</td>\n",
       "      <td>1200</td>\n",
       "      <td>1100</td>\n",
       "      <td>1069</td>\n",
       "      <td>1000</td>\n",
       "      <td>0</td>\n",
       "    </tr>\n",
       "    <tr>\n",
       "      <th>4</th>\n",
       "      <td>5</td>\n",
       "      <td>50000</td>\n",
       "      <td>1</td>\n",
       "      <td>2</td>\n",
       "      <td>1</td>\n",
       "      <td>57</td>\n",
       "      <td>-1</td>\n",
       "      <td>0</td>\n",
       "      <td>-1</td>\n",
       "      <td>0</td>\n",
       "      <td>0</td>\n",
       "      <td>0</td>\n",
       "      <td>8617</td>\n",
       "      <td>5670</td>\n",
       "      <td>35835</td>\n",
       "      <td>20940</td>\n",
       "      <td>19146</td>\n",
       "      <td>19131</td>\n",
       "      <td>2000</td>\n",
       "      <td>36681</td>\n",
       "      <td>10000</td>\n",
       "      <td>9000</td>\n",
       "      <td>689</td>\n",
       "      <td>679</td>\n",
       "      <td>0</td>\n",
       "    </tr>\n",
       "  </tbody>\n",
       "</table>\n",
       "</div>"
      ],
      "text/plain": [
       "   ID  LIMIT_BAL  SEX  EDUCATION  MARRIAGE  AGE  PAY_0  PAY_2  PAY_3  PAY_4  \\\n",
       "0   1      20000    2          2         1   24      2      2     -1     -1   \n",
       "1   2     120000    2          2         2   26     -1      2      0      0   \n",
       "2   3      90000    2          2         2   34      0      0      0      0   \n",
       "3   4      50000    2          2         1   37      0      0      0      0   \n",
       "4   5      50000    1          2         1   57     -1      0     -1      0   \n",
       "\n",
       "   PAY_5  PAY_6  BILL_AMT1  BILL_AMT2  BILL_AMT3  BILL_AMT4  BILL_AMT5  \\\n",
       "0     -2     -2       3913       3102        689          0          0   \n",
       "1      0      2       2682       1725       2682       3272       3455   \n",
       "2      0      0      29239      14027      13559      14331      14948   \n",
       "3      0      0      46990      48233      49291      28314      28959   \n",
       "4      0      0       8617       5670      35835      20940      19146   \n",
       "\n",
       "   BILL_AMT6  PAY_AMT1  PAY_AMT2  PAY_AMT3  PAY_AMT4  PAY_AMT5  PAY_AMT6  \\\n",
       "0          0         0       689         0         0         0         0   \n",
       "1       3261         0      1000      1000      1000         0      2000   \n",
       "2      15549      1518      1500      1000      1000      1000      5000   \n",
       "3      29547      2000      2019      1200      1100      1069      1000   \n",
       "4      19131      2000     36681     10000      9000       689       679   \n",
       "\n",
       "   defaulted  \n",
       "0          1  \n",
       "1          1  \n",
       "2          0  \n",
       "3          0  \n",
       "4          0  "
      ]
     },
     "execution_count": 279,
     "metadata": {},
     "output_type": "execute_result"
    }
   ],
   "source": [
    "xlsx_path='credit-card-default.xlsx'\n",
    "df=pd.read_excel(xlsx_path)\n",
    "df.head()"
   ]
  },
  {
   "cell_type": "code",
   "execution_count": 338,
   "id": "5a82b9e4",
   "metadata": {},
   "outputs": [
    {
     "data": {
      "text/plain": [
       "16"
      ]
     },
     "execution_count": 338,
     "metadata": {},
     "output_type": "execute_result"
    }
   ],
   "source": [
    "25-len(cat_cols)"
   ]
  },
  {
   "cell_type": "markdown",
   "id": "b126a125",
   "metadata": {},
   "source": [
    "### Data Dictionary\n",
    "* ID: ID of each client\n",
    "* LIMIT_BAL: Amount of given credit in NT dollars (includes individual and family/supplementary credit\n",
    "* SEX: Gender (1=male, 2=female* )\n",
    "* EDUCATION: (1=graduate school, 2=university, 3=high school, 4=others, 5=unknown, 6=unknown)\n",
    "* MARRIAGE : Marital status (1=married, 2=single, 3=others)\n",
    "* AGE: Age in years\n",
    "* PAY_0: Repayment status in September, 2005 (-1=pay duly, 1=payment delay for one month, 2=payment delay for two months, … 8=payment delay for eight months, 9=payment delay for nine months and above)\n",
    "* PAY_2: Repayment status in August, 2005 (scale same as above)\n",
    "* PAY_3: Repayment status in July, 2005 (scale same as above)\n",
    "* PAY_4: Repayment status in June, 2005 (scale same as above)\n",
    "* PAY_5: Repayment status in May, 2005 (scale same as above)\n",
    "* PAY_6: Repayment status in April, 2005 (scale same as above)\n",
    "* BILL_AMT1: Amount of bill statement in September, 2005 (NT dollar)\n",
    "* BILL_AMT2: Amount of bill statement in August, 2005 (NT dollar)\n",
    "* BILL_AMT3: Amount of bill statement in July, 2005 (NT dollar)\n",
    "* BILL_AMT4: Amount of bill statement in June, 2005 (NT dollar)\n",
    "* BILL_AMT5: Amount of bill statement in May, 2005 (NT dollar)\n",
    "* BILL_AMT6: Amount of bill statement in April, 2005 (NT dollar)\n",
    "* PAY_AMT1: Amount of previous payment in September, 2005 (NT dollar)\n",
    "* PAY_AMT2: Amount of previous payment in August, 2005 (NT dollar)\n",
    "* PAY_AMT3: Amount of previous payment in July, 2005 (NT dollar)\n",
    "* PAY_AMT4: Amount of previous payment in June, 2005 (NT dollar)\n",
    "* PAY_AMT5: Amount of previous payment in May, 2005 (NT dollar)\n",
    "* PAY_AMT6: Amount of previous payment in April, 2005 (NT dollar)\n",
    "* Default payment (1=yes, 0=no)default.payment.next.month: "
   ]
  },
  {
   "cell_type": "code",
   "execution_count": 280,
   "id": "fbce40e8",
   "metadata": {},
   "outputs": [
    {
     "data": {
      "text/plain": [
       "array([1, 2, 3, 0], dtype=int64)"
      ]
     },
     "execution_count": 280,
     "metadata": {},
     "output_type": "execute_result"
    }
   ],
   "source": [
    "df.MARRIAGE.unique()"
   ]
  },
  {
   "cell_type": "markdown",
   "id": "fc41aba0",
   "metadata": {},
   "source": [
    "## Exploratory Data Analysis (EDA)\n"
   ]
  },
  {
   "cell_type": "code",
   "execution_count": 281,
   "id": "34af1c54",
   "metadata": {},
   "outputs": [
    {
     "data": {
      "text/plain": [
       "['ID',\n",
       " 'LIMIT_BAL',\n",
       " 'SEX',\n",
       " 'EDUCATION',\n",
       " 'MARRIAGE',\n",
       " 'AGE',\n",
       " 'PAY_0',\n",
       " 'PAY_2',\n",
       " 'PAY_3',\n",
       " 'PAY_4',\n",
       " 'PAY_5',\n",
       " 'PAY_6',\n",
       " 'BILL_AMT1',\n",
       " 'BILL_AMT2',\n",
       " 'BILL_AMT3',\n",
       " 'BILL_AMT4',\n",
       " 'BILL_AMT5',\n",
       " 'BILL_AMT6',\n",
       " 'PAY_AMT1',\n",
       " 'PAY_AMT2',\n",
       " 'PAY_AMT3',\n",
       " 'PAY_AMT4',\n",
       " 'PAY_AMT5',\n",
       " 'PAY_AMT6',\n",
       " 'defaulted']"
      ]
     },
     "execution_count": 281,
     "metadata": {},
     "output_type": "execute_result"
    }
   ],
   "source": [
    "df.columns.tolist()"
   ]
  },
  {
   "cell_type": "code",
   "execution_count": 282,
   "id": "2decaa2d",
   "metadata": {
    "scrolled": true
   },
   "outputs": [
    {
     "data": {
      "text/html": [
       "<div>\n",
       "<style scoped>\n",
       "    .dataframe tbody tr th:only-of-type {\n",
       "        vertical-align: middle;\n",
       "    }\n",
       "\n",
       "    .dataframe tbody tr th {\n",
       "        vertical-align: top;\n",
       "    }\n",
       "\n",
       "    .dataframe thead th {\n",
       "        text-align: right;\n",
       "    }\n",
       "</style>\n",
       "<table border=\"1\" class=\"dataframe\">\n",
       "  <thead>\n",
       "    <tr style=\"text-align: right;\">\n",
       "      <th></th>\n",
       "      <th>ID</th>\n",
       "      <th>LIMIT_BAL</th>\n",
       "      <th>SEX</th>\n",
       "      <th>EDUCATION</th>\n",
       "      <th>MARRIAGE</th>\n",
       "      <th>AGE</th>\n",
       "      <th>PAY_0</th>\n",
       "      <th>PAY_2</th>\n",
       "      <th>PAY_3</th>\n",
       "      <th>PAY_4</th>\n",
       "      <th>PAY_5</th>\n",
       "      <th>PAY_6</th>\n",
       "      <th>BILL_AMT1</th>\n",
       "      <th>BILL_AMT2</th>\n",
       "      <th>BILL_AMT3</th>\n",
       "      <th>BILL_AMT4</th>\n",
       "      <th>BILL_AMT5</th>\n",
       "      <th>BILL_AMT6</th>\n",
       "      <th>PAY_AMT1</th>\n",
       "      <th>PAY_AMT2</th>\n",
       "      <th>PAY_AMT3</th>\n",
       "      <th>PAY_AMT4</th>\n",
       "      <th>PAY_AMT5</th>\n",
       "      <th>PAY_AMT6</th>\n",
       "      <th>defaulted</th>\n",
       "    </tr>\n",
       "  </thead>\n",
       "  <tbody>\n",
       "    <tr>\n",
       "      <th>count</th>\n",
       "      <td>30000.000000</td>\n",
       "      <td>30000.000000</td>\n",
       "      <td>30000.000000</td>\n",
       "      <td>30000.000000</td>\n",
       "      <td>30000.000000</td>\n",
       "      <td>30000.000000</td>\n",
       "      <td>30000.000000</td>\n",
       "      <td>30000.000000</td>\n",
       "      <td>30000.000000</td>\n",
       "      <td>30000.000000</td>\n",
       "      <td>30000.000000</td>\n",
       "      <td>30000.000000</td>\n",
       "      <td>30000.000000</td>\n",
       "      <td>30000.000000</td>\n",
       "      <td>3.000000e+04</td>\n",
       "      <td>30000.000000</td>\n",
       "      <td>30000.000000</td>\n",
       "      <td>30000.000000</td>\n",
       "      <td>30000.000000</td>\n",
       "      <td>3.000000e+04</td>\n",
       "      <td>30000.00000</td>\n",
       "      <td>30000.000000</td>\n",
       "      <td>30000.000000</td>\n",
       "      <td>30000.000000</td>\n",
       "      <td>30000.000000</td>\n",
       "    </tr>\n",
       "    <tr>\n",
       "      <th>mean</th>\n",
       "      <td>15000.500000</td>\n",
       "      <td>167484.322667</td>\n",
       "      <td>1.603733</td>\n",
       "      <td>1.853133</td>\n",
       "      <td>1.551867</td>\n",
       "      <td>35.485500</td>\n",
       "      <td>-0.016700</td>\n",
       "      <td>-0.133767</td>\n",
       "      <td>-0.166200</td>\n",
       "      <td>-0.220667</td>\n",
       "      <td>-0.266200</td>\n",
       "      <td>-0.291100</td>\n",
       "      <td>51223.330900</td>\n",
       "      <td>49179.075167</td>\n",
       "      <td>4.701315e+04</td>\n",
       "      <td>43262.948967</td>\n",
       "      <td>40311.400967</td>\n",
       "      <td>38871.760400</td>\n",
       "      <td>5663.580500</td>\n",
       "      <td>5.921163e+03</td>\n",
       "      <td>5225.68150</td>\n",
       "      <td>4826.076867</td>\n",
       "      <td>4799.387633</td>\n",
       "      <td>5215.502567</td>\n",
       "      <td>0.221200</td>\n",
       "    </tr>\n",
       "    <tr>\n",
       "      <th>std</th>\n",
       "      <td>8660.398374</td>\n",
       "      <td>129747.661567</td>\n",
       "      <td>0.489129</td>\n",
       "      <td>0.790349</td>\n",
       "      <td>0.521970</td>\n",
       "      <td>9.217904</td>\n",
       "      <td>1.123802</td>\n",
       "      <td>1.197186</td>\n",
       "      <td>1.196868</td>\n",
       "      <td>1.169139</td>\n",
       "      <td>1.133187</td>\n",
       "      <td>1.149988</td>\n",
       "      <td>73635.860576</td>\n",
       "      <td>71173.768783</td>\n",
       "      <td>6.934939e+04</td>\n",
       "      <td>64332.856134</td>\n",
       "      <td>60797.155770</td>\n",
       "      <td>59554.107537</td>\n",
       "      <td>16563.280354</td>\n",
       "      <td>2.304087e+04</td>\n",
       "      <td>17606.96147</td>\n",
       "      <td>15666.159744</td>\n",
       "      <td>15278.305679</td>\n",
       "      <td>17777.465775</td>\n",
       "      <td>0.415062</td>\n",
       "    </tr>\n",
       "    <tr>\n",
       "      <th>min</th>\n",
       "      <td>1.000000</td>\n",
       "      <td>10000.000000</td>\n",
       "      <td>1.000000</td>\n",
       "      <td>0.000000</td>\n",
       "      <td>0.000000</td>\n",
       "      <td>21.000000</td>\n",
       "      <td>-2.000000</td>\n",
       "      <td>-2.000000</td>\n",
       "      <td>-2.000000</td>\n",
       "      <td>-2.000000</td>\n",
       "      <td>-2.000000</td>\n",
       "      <td>-2.000000</td>\n",
       "      <td>-165580.000000</td>\n",
       "      <td>-69777.000000</td>\n",
       "      <td>-1.572640e+05</td>\n",
       "      <td>-170000.000000</td>\n",
       "      <td>-81334.000000</td>\n",
       "      <td>-339603.000000</td>\n",
       "      <td>0.000000</td>\n",
       "      <td>0.000000e+00</td>\n",
       "      <td>0.00000</td>\n",
       "      <td>0.000000</td>\n",
       "      <td>0.000000</td>\n",
       "      <td>0.000000</td>\n",
       "      <td>0.000000</td>\n",
       "    </tr>\n",
       "    <tr>\n",
       "      <th>25%</th>\n",
       "      <td>7500.750000</td>\n",
       "      <td>50000.000000</td>\n",
       "      <td>1.000000</td>\n",
       "      <td>1.000000</td>\n",
       "      <td>1.000000</td>\n",
       "      <td>28.000000</td>\n",
       "      <td>-1.000000</td>\n",
       "      <td>-1.000000</td>\n",
       "      <td>-1.000000</td>\n",
       "      <td>-1.000000</td>\n",
       "      <td>-1.000000</td>\n",
       "      <td>-1.000000</td>\n",
       "      <td>3558.750000</td>\n",
       "      <td>2984.750000</td>\n",
       "      <td>2.666250e+03</td>\n",
       "      <td>2326.750000</td>\n",
       "      <td>1763.000000</td>\n",
       "      <td>1256.000000</td>\n",
       "      <td>1000.000000</td>\n",
       "      <td>8.330000e+02</td>\n",
       "      <td>390.00000</td>\n",
       "      <td>296.000000</td>\n",
       "      <td>252.500000</td>\n",
       "      <td>117.750000</td>\n",
       "      <td>0.000000</td>\n",
       "    </tr>\n",
       "    <tr>\n",
       "      <th>50%</th>\n",
       "      <td>15000.500000</td>\n",
       "      <td>140000.000000</td>\n",
       "      <td>2.000000</td>\n",
       "      <td>2.000000</td>\n",
       "      <td>2.000000</td>\n",
       "      <td>34.000000</td>\n",
       "      <td>0.000000</td>\n",
       "      <td>0.000000</td>\n",
       "      <td>0.000000</td>\n",
       "      <td>0.000000</td>\n",
       "      <td>0.000000</td>\n",
       "      <td>0.000000</td>\n",
       "      <td>22381.500000</td>\n",
       "      <td>21200.000000</td>\n",
       "      <td>2.008850e+04</td>\n",
       "      <td>19052.000000</td>\n",
       "      <td>18104.500000</td>\n",
       "      <td>17071.000000</td>\n",
       "      <td>2100.000000</td>\n",
       "      <td>2.009000e+03</td>\n",
       "      <td>1800.00000</td>\n",
       "      <td>1500.000000</td>\n",
       "      <td>1500.000000</td>\n",
       "      <td>1500.000000</td>\n",
       "      <td>0.000000</td>\n",
       "    </tr>\n",
       "    <tr>\n",
       "      <th>75%</th>\n",
       "      <td>22500.250000</td>\n",
       "      <td>240000.000000</td>\n",
       "      <td>2.000000</td>\n",
       "      <td>2.000000</td>\n",
       "      <td>2.000000</td>\n",
       "      <td>41.000000</td>\n",
       "      <td>0.000000</td>\n",
       "      <td>0.000000</td>\n",
       "      <td>0.000000</td>\n",
       "      <td>0.000000</td>\n",
       "      <td>0.000000</td>\n",
       "      <td>0.000000</td>\n",
       "      <td>67091.000000</td>\n",
       "      <td>64006.250000</td>\n",
       "      <td>6.016475e+04</td>\n",
       "      <td>54506.000000</td>\n",
       "      <td>50190.500000</td>\n",
       "      <td>49198.250000</td>\n",
       "      <td>5006.000000</td>\n",
       "      <td>5.000000e+03</td>\n",
       "      <td>4505.00000</td>\n",
       "      <td>4013.250000</td>\n",
       "      <td>4031.500000</td>\n",
       "      <td>4000.000000</td>\n",
       "      <td>0.000000</td>\n",
       "    </tr>\n",
       "    <tr>\n",
       "      <th>max</th>\n",
       "      <td>30000.000000</td>\n",
       "      <td>1000000.000000</td>\n",
       "      <td>2.000000</td>\n",
       "      <td>6.000000</td>\n",
       "      <td>3.000000</td>\n",
       "      <td>79.000000</td>\n",
       "      <td>8.000000</td>\n",
       "      <td>8.000000</td>\n",
       "      <td>8.000000</td>\n",
       "      <td>8.000000</td>\n",
       "      <td>8.000000</td>\n",
       "      <td>8.000000</td>\n",
       "      <td>964511.000000</td>\n",
       "      <td>983931.000000</td>\n",
       "      <td>1.664089e+06</td>\n",
       "      <td>891586.000000</td>\n",
       "      <td>927171.000000</td>\n",
       "      <td>961664.000000</td>\n",
       "      <td>873552.000000</td>\n",
       "      <td>1.684259e+06</td>\n",
       "      <td>896040.00000</td>\n",
       "      <td>621000.000000</td>\n",
       "      <td>426529.000000</td>\n",
       "      <td>528666.000000</td>\n",
       "      <td>1.000000</td>\n",
       "    </tr>\n",
       "  </tbody>\n",
       "</table>\n",
       "</div>"
      ],
      "text/plain": [
       "                 ID       LIMIT_BAL           SEX     EDUCATION      MARRIAGE  \\\n",
       "count  30000.000000    30000.000000  30000.000000  30000.000000  30000.000000   \n",
       "mean   15000.500000   167484.322667      1.603733      1.853133      1.551867   \n",
       "std     8660.398374   129747.661567      0.489129      0.790349      0.521970   \n",
       "min        1.000000    10000.000000      1.000000      0.000000      0.000000   \n",
       "25%     7500.750000    50000.000000      1.000000      1.000000      1.000000   \n",
       "50%    15000.500000   140000.000000      2.000000      2.000000      2.000000   \n",
       "75%    22500.250000   240000.000000      2.000000      2.000000      2.000000   \n",
       "max    30000.000000  1000000.000000      2.000000      6.000000      3.000000   \n",
       "\n",
       "                AGE         PAY_0         PAY_2         PAY_3         PAY_4  \\\n",
       "count  30000.000000  30000.000000  30000.000000  30000.000000  30000.000000   \n",
       "mean      35.485500     -0.016700     -0.133767     -0.166200     -0.220667   \n",
       "std        9.217904      1.123802      1.197186      1.196868      1.169139   \n",
       "min       21.000000     -2.000000     -2.000000     -2.000000     -2.000000   \n",
       "25%       28.000000     -1.000000     -1.000000     -1.000000     -1.000000   \n",
       "50%       34.000000      0.000000      0.000000      0.000000      0.000000   \n",
       "75%       41.000000      0.000000      0.000000      0.000000      0.000000   \n",
       "max       79.000000      8.000000      8.000000      8.000000      8.000000   \n",
       "\n",
       "              PAY_5         PAY_6      BILL_AMT1      BILL_AMT2     BILL_AMT3  \\\n",
       "count  30000.000000  30000.000000   30000.000000   30000.000000  3.000000e+04   \n",
       "mean      -0.266200     -0.291100   51223.330900   49179.075167  4.701315e+04   \n",
       "std        1.133187      1.149988   73635.860576   71173.768783  6.934939e+04   \n",
       "min       -2.000000     -2.000000 -165580.000000  -69777.000000 -1.572640e+05   \n",
       "25%       -1.000000     -1.000000    3558.750000    2984.750000  2.666250e+03   \n",
       "50%        0.000000      0.000000   22381.500000   21200.000000  2.008850e+04   \n",
       "75%        0.000000      0.000000   67091.000000   64006.250000  6.016475e+04   \n",
       "max        8.000000      8.000000  964511.000000  983931.000000  1.664089e+06   \n",
       "\n",
       "           BILL_AMT4      BILL_AMT5      BILL_AMT6       PAY_AMT1  \\\n",
       "count   30000.000000   30000.000000   30000.000000   30000.000000   \n",
       "mean    43262.948967   40311.400967   38871.760400    5663.580500   \n",
       "std     64332.856134   60797.155770   59554.107537   16563.280354   \n",
       "min   -170000.000000  -81334.000000 -339603.000000       0.000000   \n",
       "25%      2326.750000    1763.000000    1256.000000    1000.000000   \n",
       "50%     19052.000000   18104.500000   17071.000000    2100.000000   \n",
       "75%     54506.000000   50190.500000   49198.250000    5006.000000   \n",
       "max    891586.000000  927171.000000  961664.000000  873552.000000   \n",
       "\n",
       "           PAY_AMT2      PAY_AMT3       PAY_AMT4       PAY_AMT5  \\\n",
       "count  3.000000e+04   30000.00000   30000.000000   30000.000000   \n",
       "mean   5.921163e+03    5225.68150    4826.076867    4799.387633   \n",
       "std    2.304087e+04   17606.96147   15666.159744   15278.305679   \n",
       "min    0.000000e+00       0.00000       0.000000       0.000000   \n",
       "25%    8.330000e+02     390.00000     296.000000     252.500000   \n",
       "50%    2.009000e+03    1800.00000    1500.000000    1500.000000   \n",
       "75%    5.000000e+03    4505.00000    4013.250000    4031.500000   \n",
       "max    1.684259e+06  896040.00000  621000.000000  426529.000000   \n",
       "\n",
       "            PAY_AMT6     defaulted  \n",
       "count   30000.000000  30000.000000  \n",
       "mean     5215.502567      0.221200  \n",
       "std     17777.465775      0.415062  \n",
       "min         0.000000      0.000000  \n",
       "25%       117.750000      0.000000  \n",
       "50%      1500.000000      0.000000  \n",
       "75%      4000.000000      0.000000  \n",
       "max    528666.000000      1.000000  "
      ]
     },
     "execution_count": 282,
     "metadata": {},
     "output_type": "execute_result"
    }
   ],
   "source": [
    "df.describe()"
   ]
  },
  {
   "cell_type": "markdown",
   "id": "40977a99",
   "metadata": {},
   "source": [
    "####  Datatypes"
   ]
  },
  {
   "cell_type": "code",
   "execution_count": 283,
   "id": "8c5e53fb",
   "metadata": {
    "scrolled": false
   },
   "outputs": [
    {
     "data": {
      "text/plain": [
       "ID           int64\n",
       "LIMIT_BAL    int64\n",
       "SEX          int64\n",
       "EDUCATION    int64\n",
       "MARRIAGE     int64\n",
       "AGE          int64\n",
       "PAY_0        int64\n",
       "PAY_2        int64\n",
       "PAY_3        int64\n",
       "PAY_4        int64\n",
       "PAY_5        int64\n",
       "PAY_6        int64\n",
       "BILL_AMT1    int64\n",
       "BILL_AMT2    int64\n",
       "BILL_AMT3    int64\n",
       "BILL_AMT4    int64\n",
       "BILL_AMT5    int64\n",
       "BILL_AMT6    int64\n",
       "PAY_AMT1     int64\n",
       "PAY_AMT2     int64\n",
       "PAY_AMT3     int64\n",
       "PAY_AMT4     int64\n",
       "PAY_AMT5     int64\n",
       "PAY_AMT6     int64\n",
       "defaulted    int64\n",
       "dtype: object"
      ]
     },
     "execution_count": 283,
     "metadata": {},
     "output_type": "execute_result"
    }
   ],
   "source": [
    "df.dtypes"
   ]
  },
  {
   "cell_type": "markdown",
   "id": "5efddee2",
   "metadata": {},
   "source": [
    "All the datatypes looks perfect."
   ]
  },
  {
   "cell_type": "markdown",
   "id": "0b2d6289",
   "metadata": {},
   "source": [
    "#### Null values"
   ]
  },
  {
   "cell_type": "code",
   "execution_count": 284,
   "id": "c558bd4f",
   "metadata": {
    "scrolled": true
   },
   "outputs": [
    {
     "data": {
      "text/plain": [
       "ID           0\n",
       "LIMIT_BAL    0\n",
       "SEX          0\n",
       "EDUCATION    0\n",
       "MARRIAGE     0\n",
       "AGE          0\n",
       "PAY_0        0\n",
       "PAY_2        0\n",
       "PAY_3        0\n",
       "PAY_4        0\n",
       "PAY_5        0\n",
       "PAY_6        0\n",
       "BILL_AMT1    0\n",
       "BILL_AMT2    0\n",
       "BILL_AMT3    0\n",
       "BILL_AMT4    0\n",
       "BILL_AMT5    0\n",
       "BILL_AMT6    0\n",
       "PAY_AMT1     0\n",
       "PAY_AMT2     0\n",
       "PAY_AMT3     0\n",
       "PAY_AMT4     0\n",
       "PAY_AMT5     0\n",
       "PAY_AMT6     0\n",
       "defaulted    0\n",
       "dtype: int64"
      ]
     },
     "execution_count": 284,
     "metadata": {},
     "output_type": "execute_result"
    }
   ],
   "source": [
    "df.isnull().sum()"
   ]
  },
  {
   "cell_type": "markdown",
   "id": "b5db5b30",
   "metadata": {},
   "source": [
    "There is no null values in the dataset."
   ]
  },
  {
   "cell_type": "markdown",
   "id": "92182191",
   "metadata": {},
   "source": [
    "####  PAY_0"
   ]
  },
  {
   "cell_type": "markdown",
   "id": "6c7e6b1d",
   "metadata": {},
   "source": [
    "The `PAY_0` column can be renamed as `PAY_1` for better understanding"
   ]
  },
  {
   "cell_type": "code",
   "execution_count": 285,
   "id": "3500795d",
   "metadata": {},
   "outputs": [],
   "source": [
    "df.rename(columns={\"PAY_0\": \"PAY_1\"}, inplace=True)"
   ]
  },
  {
   "cell_type": "markdown",
   "id": "c5fe88f6",
   "metadata": {},
   "source": [
    "We can set the ID columns as index."
   ]
  },
  {
   "cell_type": "markdown",
   "id": "fe403ad1",
   "metadata": {},
   "source": [
    "#### ID"
   ]
  },
  {
   "cell_type": "code",
   "execution_count": 286,
   "id": "c5859f10",
   "metadata": {},
   "outputs": [
    {
     "data": {
      "text/plain": [
       "30000"
      ]
     },
     "execution_count": 286,
     "metadata": {},
     "output_type": "execute_result"
    }
   ],
   "source": [
    "df.ID.nunique()"
   ]
  },
  {
   "cell_type": "code",
   "execution_count": 287,
   "id": "82dccfc2",
   "metadata": {},
   "outputs": [],
   "source": [
    "df.set_index('ID',inplace=True)\n"
   ]
  },
  {
   "cell_type": "markdown",
   "id": "66050e70",
   "metadata": {},
   "source": [
    "#### EDUCATION"
   ]
  },
  {
   "cell_type": "markdown",
   "id": "35cd2a78",
   "metadata": {},
   "source": [
    "The `EDUCATION` column in the dataset contains `6` categories among which 5 and 6 are both unknown columns we can change the categories\n",
    "of these columns to others that is to `4`th category."
   ]
  },
  {
   "cell_type": "code",
   "execution_count": 288,
   "id": "7fff7148",
   "metadata": {},
   "outputs": [],
   "source": [
    "df['EDUCATION'].unique()\n",
    "df.loc[(df.EDUCATION == 0) | (df.EDUCATION == 5) | (df.EDUCATION == 6), \"EDUCATION\"] = 4"
   ]
  },
  {
   "cell_type": "code",
   "execution_count": 289,
   "id": "fad770b3",
   "metadata": {
    "scrolled": true
   },
   "outputs": [
    {
     "data": {
      "text/plain": [
       "2    14030\n",
       "1    10585\n",
       "3     4917\n",
       "4      468\n",
       "Name: EDUCATION, dtype: int64"
      ]
     },
     "execution_count": 289,
     "metadata": {},
     "output_type": "execute_result"
    }
   ],
   "source": [
    "df['EDUCATION'].value_counts()"
   ]
  },
  {
   "cell_type": "markdown",
   "id": "34541d8a",
   "metadata": {},
   "source": [
    "#### SEX"
   ]
  },
  {
   "cell_type": "code",
   "execution_count": 290,
   "id": "708577d4",
   "metadata": {},
   "outputs": [
    {
     "data": {
      "text/plain": [
       "array([2, 1], dtype=int64)"
      ]
     },
     "execution_count": 290,
     "metadata": {},
     "output_type": "execute_result"
    }
   ],
   "source": [
    "df['SEX'].unique()"
   ]
  },
  {
   "cell_type": "code",
   "execution_count": 291,
   "id": "c6cf4278",
   "metadata": {},
   "outputs": [
    {
     "data": {
      "text/plain": [
       "2    18112\n",
       "1    11888\n",
       "Name: SEX, dtype: int64"
      ]
     },
     "execution_count": 291,
     "metadata": {},
     "output_type": "execute_result"
    }
   ],
   "source": [
    "df['SEX'].value_counts()"
   ]
  },
  {
   "cell_type": "markdown",
   "id": "385443af",
   "metadata": {},
   "source": [
    "#### MARRIAGE"
   ]
  },
  {
   "cell_type": "code",
   "execution_count": 292,
   "id": "d5ebfa07",
   "metadata": {},
   "outputs": [
    {
     "data": {
      "text/plain": [
       "array([1, 2, 3, 0], dtype=int64)"
      ]
     },
     "execution_count": 292,
     "metadata": {},
     "output_type": "execute_result"
    }
   ],
   "source": [
    "df['MARRIAGE'].unique()"
   ]
  },
  {
   "cell_type": "markdown",
   "id": "36709807",
   "metadata": {},
   "source": [
    "There are 4 categories in this `MARRIAGE` columns. Marital status (1=married, 2=single, 3=others). But there is also 0 in this column so we can replace this 0 to 3(Others)."
   ]
  },
  {
   "cell_type": "code",
   "execution_count": 293,
   "id": "a9e50163",
   "metadata": {},
   "outputs": [
    {
     "data": {
      "text/plain": [
       "2    15964\n",
       "1    13659\n",
       "3      323\n",
       "0       54\n",
       "Name: MARRIAGE, dtype: int64"
      ]
     },
     "execution_count": 293,
     "metadata": {},
     "output_type": "execute_result"
    }
   ],
   "source": [
    "df['MARRIAGE'].value_counts()"
   ]
  },
  {
   "cell_type": "code",
   "execution_count": 294,
   "id": "5f59397e",
   "metadata": {},
   "outputs": [
    {
     "data": {
      "text/plain": [
       "2    15964\n",
       "1    13659\n",
       "3      377\n",
       "Name: MARRIAGE, dtype: int64"
      ]
     },
     "execution_count": 294,
     "metadata": {},
     "output_type": "execute_result"
    }
   ],
   "source": [
    "df['MARRIAGE'].replace(0,3,inplace=True)\n",
    "df['MARRIAGE'].value_counts()"
   ]
  },
  {
   "cell_type": "markdown",
   "id": "be1e43d9",
   "metadata": {},
   "source": [
    "#### defaulted"
   ]
  },
  {
   "cell_type": "code",
   "execution_count": 295,
   "id": "4760bd1c",
   "metadata": {},
   "outputs": [
    {
     "data": {
      "text/plain": [
       "array([1, 0], dtype=int64)"
      ]
     },
     "execution_count": 295,
     "metadata": {},
     "output_type": "execute_result"
    }
   ],
   "source": [
    "df['defaulted'].unique()"
   ]
  },
  {
   "cell_type": "code",
   "execution_count": 296,
   "id": "03b66ed3",
   "metadata": {},
   "outputs": [
    {
     "data": {
      "text/plain": [
       "0    23364\n",
       "1     6636\n",
       "Name: defaulted, dtype: int64"
      ]
     },
     "execution_count": 296,
     "metadata": {},
     "output_type": "execute_result"
    }
   ],
   "source": [
    "df['defaulted'].value_counts()"
   ]
  },
  {
   "cell_type": "markdown",
   "id": "c40fd153",
   "metadata": {},
   "source": [
    "There is imbalance in the dataset which should be handled."
   ]
  },
  {
   "cell_type": "markdown",
   "id": "0f479e59",
   "metadata": {},
   "source": [
    "#### PAY_n coloumns (n for 1,2,3,4,5,6)"
   ]
  },
  {
   "cell_type": "code",
   "execution_count": 297,
   "id": "dcce6034",
   "metadata": {},
   "outputs": [
    {
     "data": {
      "text/plain": [
       "array([ 2, -1,  0, -2,  1,  3,  4,  8,  7,  5,  6], dtype=int64)"
      ]
     },
     "execution_count": 297,
     "metadata": {},
     "output_type": "execute_result"
    }
   ],
   "source": [
    "df['PAY_1'].unique()"
   ]
  },
  {
   "cell_type": "markdown",
   "id": "3c41e949",
   "metadata": {},
   "source": [
    "PAY_n columns are repayment status of customers.\n",
    "It is found that there is `0, -1, -2` values in PAY_n columns. -1 stands for `paid duly` so we dont know what 0 and -2 means.\n",
    "So we assumed that `0,-1,-2` values also mean `paid duly` and filled them with `0`. "
   ]
  },
  {
   "cell_type": "code",
   "execution_count": 298,
   "id": "c8f789ab",
   "metadata": {
    "scrolled": true
   },
   "outputs": [
    {
     "data": {
      "text/plain": [
       " 0    14737\n",
       "-1     5686\n",
       " 1     3688\n",
       "-2     2759\n",
       " 2     2667\n",
       " 3      322\n",
       " 4       76\n",
       " 5       26\n",
       " 8       19\n",
       " 6       11\n",
       " 7        9\n",
       "Name: PAY_1, dtype: int64"
      ]
     },
     "execution_count": 298,
     "metadata": {},
     "output_type": "execute_result"
    }
   ],
   "source": [
    "df['PAY_1'].value_counts()"
   ]
  },
  {
   "cell_type": "code",
   "execution_count": 299,
   "id": "0efeeccd",
   "metadata": {},
   "outputs": [],
   "source": [
    "df.PAY_1.loc[(df.PAY_1 == -2) | (df.PAY_1 == -1) | (df.PAY_1 == 0)] = 0\n",
    "df.PAY_2.loc[(df.PAY_2 == -2) | (df.PAY_2 == -1) | (df.PAY_2 == 0)] = 0\n",
    "df.PAY_3.loc[(df.PAY_3 == -2) | (df.PAY_3 == -1) | (df.PAY_3 == 0)] = 0\n",
    "df.PAY_4.loc[(df.PAY_4 == -2) | (df.PAY_4 == -1) | (df.PAY_4 == 0)] = 0 \n",
    "df.PAY_5.loc[(df.PAY_5 == -2) | (df.PAY_5 == -1) | (df.PAY_5 == 0)] = 0\n",
    "df.PAY_6.loc[(df.PAY_6 == -2) | (df.PAY_6 == -1) | (df.PAY_6 == 0)] = 0\n"
   ]
  },
  {
   "cell_type": "code",
   "execution_count": 300,
   "id": "99b396f6",
   "metadata": {},
   "outputs": [
    {
     "data": {
      "text/plain": [
       "0    23182\n",
       "1     3688\n",
       "2     2667\n",
       "3      322\n",
       "4       76\n",
       "5       26\n",
       "8       19\n",
       "6       11\n",
       "7        9\n",
       "Name: PAY_1, dtype: int64"
      ]
     },
     "execution_count": 300,
     "metadata": {},
     "output_type": "execute_result"
    }
   ],
   "source": [
    "df['PAY_1'].value_counts()"
   ]
  },
  {
   "cell_type": "code",
   "execution_count": 301,
   "id": "fcb7fdb7",
   "metadata": {},
   "outputs": [],
   "source": [
    "# Categorical columns for encoding\n",
    "cat_cols = [\"SEX\",\"EDUCATION\",\"MARRIAGE\",\"PAY_1\",\"PAY_2\",\"PAY_3\",\"PAY_4\",\"PAY_5\",\"PAY_6\"]"
   ]
  },
  {
   "cell_type": "markdown",
   "id": "f77d23e5",
   "metadata": {},
   "source": [
    "### Visualization"
   ]
  },
  {
   "cell_type": "code",
   "execution_count": 302,
   "id": "566ef67c",
   "metadata": {},
   "outputs": [],
   "source": [
    "def plot_cat(col):\n",
    "    return df.groupby(col)['defaulted'].value_counts(normalize=True).unstack().plot(kind='bar', figsize=(10,7), title=col)\n",
    "def bivariate_box(x, y, title):\n",
    "    # labels\n",
    "    order = sorted(df[x].value_counts().index.tolist())\n",
    "    plt.figure(figsize=(10,6))\n",
    "    # plot\n",
    "    sns.boxplot(x,y, data=df, hue='loan_status',order=order)\n",
    "    plt.title(title, size='15')\n",
    "    return plt.show()\n",
    "def plot_binned(col, bin_num):\n",
    "    bins=np.linspace(min(df[col]), max(df[col]), bin_num)\n",
    "    print(bins)\n",
    "    labels=['B'+str(i) for i in range(bin_num-1)]\n",
    "    # binning\n",
    "    df2=df.copy()\n",
    "    df2[col+'_bin']=pd.cut(df[col], bins, labels=labels, include_lowest=True)\n",
    "    return df2.groupby(col+'_bin')['defaulted'].value_counts(normalize=True).unstack().plot(kind='bar', title=col, figsize=(12,6));"
   ]
  },
  {
   "cell_type": "code",
   "execution_count": 303,
   "id": "7c3d0277",
   "metadata": {
    "scrolled": true
   },
   "outputs": [
    {
     "data": {
      "text/plain": [
       "73    4\n",
       "75    3\n",
       "72    3\n",
       "71    3\n",
       "79    1\n",
       "74    1\n",
       "Name: AGE, dtype: int64"
      ]
     },
     "execution_count": 303,
     "metadata": {},
     "output_type": "execute_result"
    },
    {
     "data": {
      "image/png": "[encoded data removed]",
      "text/plain": [
       "<Figure size 432x288 with 1 Axes>"
      ]
     },
     "metadata": {
      "needs_background": "light"
     },
     "output_type": "display_data"
    }
   ],
   "source": [
    "sns.boxplot(data=df, x=df.AGE)\n",
    "df.loc[df.AGE>70][\"AGE\"].value_counts()"
   ]
  },
  {
   "cell_type": "markdown",
   "id": "cd265eaa",
   "metadata": {},
   "source": [
    "Checked whether there is any outliers in the dataset but the maximum age in the dataset is 79 which is not a mistake."
   ]
  },
  {
   "cell_type": "code",
   "execution_count": 304,
   "id": "76641769",
   "metadata": {
    "scrolled": true
   },
   "outputs": [
    {
     "data": {
      "text/plain": [
       "<AxesSubplot:xlabel='defaulted', ylabel='count'>"
      ]
     },
     "execution_count": 304,
     "metadata": {},
     "output_type": "execute_result"
    },
    {
     "data": {
      "image/png": "[encoded data removed]",
      "text/plain": [
       "<Figure size 432x288 with 1 Axes>"
      ]
     },
     "metadata": {
      "needs_background": "light"
     },
     "output_type": "display_data"
    }
   ],
   "source": [
    "sns.countplot(x=df['defaulted'])"
   ]
  },
  {
   "cell_type": "markdown",
   "id": "ee3d8d71",
   "metadata": {},
   "source": [
    "There is imbalance in the target columns we must handle the imbalance."
   ]
  },
  {
   "cell_type": "code",
   "execution_count": 305,
   "id": "04a62b8e",
   "metadata": {},
   "outputs": [
    {
     "data": {
      "text/plain": [
       "0    23364\n",
       "1     6636\n",
       "Name: defaulted, dtype: int64"
      ]
     },
     "execution_count": 305,
     "metadata": {},
     "output_type": "execute_result"
    }
   ],
   "source": [
    "df.defaulted.value_counts()"
   ]
  },
  {
   "cell_type": "code",
   "execution_count": 306,
   "id": "3e054974",
   "metadata": {
    "scrolled": true
   },
   "outputs": [
    {
     "data": {
      "text/plain": [
       "<AxesSubplot:title={'center':'EDUCATION'}, xlabel='EDUCATION'>"
      ]
     },
     "execution_count": 306,
     "metadata": {},
     "output_type": "execute_result"
    },
    {
     "data": {
      "image/png": "[encoded data removed]",
      "text/plain": [
       "<Figure size 720x504 with 1 Axes>"
      ]
     },
     "metadata": {
      "needs_background": "light"
     },
     "output_type": "display_data"
    }
   ],
   "source": [
    "plot_cat(\"EDUCATION\")"
   ]
  },
  {
   "cell_type": "markdown",
   "id": "b8e9b3fe",
   "metadata": {},
   "source": [
    "lowest rate of default is in the 4th category. "
   ]
  },
  {
   "cell_type": "code",
   "execution_count": 307,
   "id": "96958bee",
   "metadata": {},
   "outputs": [
    {
     "data": {
      "text/plain": [
       "<AxesSubplot:title={'center':'SEX'}, xlabel='SEX'>"
      ]
     },
     "execution_count": 307,
     "metadata": {},
     "output_type": "execute_result"
    },
    {
     "data": {
      "image/png": "[encoded data removed]",
      "text/plain": [
       "<Figure size 720x504 with 1 Axes>"
      ]
     },
     "metadata": {
      "needs_background": "light"
     },
     "output_type": "display_data"
    }
   ],
   "source": [
    "plot_cat(\"SEX\")"
   ]
  },
  {
   "cell_type": "markdown",
   "id": "540efb8b",
   "metadata": {},
   "source": [
    "There is a slight chance of default in male customers compared to female. "
   ]
  },
  {
   "cell_type": "code",
   "execution_count": 308,
   "id": "c672877c",
   "metadata": {
    "scrolled": true
   },
   "outputs": [
    {
     "data": {
      "text/plain": [
       "<AxesSubplot:title={'center':'MARRIAGE'}, xlabel='MARRIAGE'>"
      ]
     },
     "execution_count": 308,
     "metadata": {},
     "output_type": "execute_result"
    },
    {
     "data": {
      "image/png": "[encoded data removed]",
      "text/plain": [
       "<Figure size 720x504 with 1 Axes>"
      ]
     },
     "metadata": {
      "needs_background": "light"
     },
     "output_type": "display_data"
    }
   ],
   "source": [
    "plot_cat(\"MARRIAGE\")"
   ]
  },
  {
   "cell_type": "markdown",
   "id": "42172940",
   "metadata": {},
   "source": [
    "Single customers have the lowest chance of default compared to married and divorced customers."
   ]
  },
  {
   "cell_type": "code",
   "execution_count": 309,
   "id": "ba70ebfe",
   "metadata": {},
   "outputs": [
    {
     "data": {
      "text/plain": [
       "['SEX',\n",
       " 'EDUCATION',\n",
       " 'MARRIAGE',\n",
       " 'PAY_1',\n",
       " 'PAY_2',\n",
       " 'PAY_3',\n",
       " 'PAY_4',\n",
       " 'PAY_5',\n",
       " 'PAY_6']"
      ]
     },
     "execution_count": 309,
     "metadata": {},
     "output_type": "execute_result"
    }
   ],
   "source": [
    "cat_cols"
   ]
  },
  {
   "cell_type": "code",
   "execution_count": 310,
   "id": "598716cb",
   "metadata": {},
   "outputs": [
    {
     "data": {
      "text/plain": [
       "<AxesSubplot:title={'center':'PAY_1'}, xlabel='PAY_1'>"
      ]
     },
     "execution_count": 310,
     "metadata": {},
     "output_type": "execute_result"
    },
    {
     "data": {
      "image/png": "[encoded data removed]",
      "text/plain": [
       "<Figure size 720x504 with 1 Axes>"
      ]
     },
     "metadata": {
      "needs_background": "light"
     },
     "output_type": "display_data"
    }
   ],
   "source": [
    "plot_cat(\"PAY_1\")"
   ]
  },
  {
   "cell_type": "code",
   "execution_count": 311,
   "id": "363ec038",
   "metadata": {},
   "outputs": [
    {
     "data": {
      "text/plain": [
       "<AxesSubplot:title={'center':'PAY_2'}, xlabel='PAY_2'>"
      ]
     },
     "execution_count": 311,
     "metadata": {},
     "output_type": "execute_result"
    },
    {
     "data": {
      "image/png": "[encoded data removed]",
      "text/plain": [
       "<Figure size 720x504 with 1 Axes>"
      ]
     },
     "metadata": {
      "needs_background": "light"
     },
     "output_type": "display_data"
    }
   ],
   "source": [
    "plot_cat(\"PAY_2\")"
   ]
  },
  {
   "cell_type": "code",
   "execution_count": 312,
   "id": "60695b1f",
   "metadata": {
    "scrolled": true
   },
   "outputs": [
    {
     "data": {
      "text/plain": [
       "<AxesSubplot:title={'center':'PAY_3'}, xlabel='PAY_3'>"
      ]
     },
     "execution_count": 312,
     "metadata": {},
     "output_type": "execute_result"
    },
    {
     "data": {
      "image/png": "[encoded data removed]",
      "text/plain": [
       "<Figure size 720x504 with 1 Axes>"
      ]
     },
     "metadata": {
      "needs_background": "light"
     },
     "output_type": "display_data"
    }
   ],
   "source": [
    "plot_cat(\"PAY_3\")"
   ]
  },
  {
   "cell_type": "code",
   "execution_count": 313,
   "id": "e0d05496",
   "metadata": {},
   "outputs": [
    {
     "data": {
      "text/plain": [
       "<AxesSubplot:title={'center':'PAY_4'}, xlabel='PAY_4'>"
      ]
     },
     "execution_count": 313,
     "metadata": {},
     "output_type": "execute_result"
    },
    {
     "data": {
      "image/png": "[encoded data removed]",
      "text/plain": [
       "<Figure size 720x504 with 1 Axes>"
      ]
     },
     "metadata": {
      "needs_background": "light"
     },
     "output_type": "display_data"
    }
   ],
   "source": [
    "plot_cat(\"PAY_4\")"
   ]
  },
  {
   "cell_type": "code",
   "execution_count": 314,
   "id": "b8e93659",
   "metadata": {},
   "outputs": [
    {
     "data": {
      "text/plain": [
       "<AxesSubplot:title={'center':'PAY_5'}, xlabel='PAY_5'>"
      ]
     },
     "execution_count": 314,
     "metadata": {},
     "output_type": "execute_result"
    },
    {
     "data": {
      "image/png": "[encoded data removed]",
      "text/plain": [
       "<Figure size 720x504 with 1 Axes>"
      ]
     },
     "metadata": {
      "needs_background": "light"
     },
     "output_type": "display_data"
    }
   ],
   "source": [
    "plot_cat(\"PAY_5\")"
   ]
  },
  {
   "cell_type": "code",
   "execution_count": 315,
   "id": "6c7d42e8",
   "metadata": {},
   "outputs": [
    {
     "data": {
      "text/plain": [
       "<AxesSubplot:title={'center':'PAY_6'}, xlabel='PAY_6'>"
      ]
     },
     "execution_count": 315,
     "metadata": {},
     "output_type": "execute_result"
    },
    {
     "data": {
      "image/png": "[encoded data removed]",
      "text/plain": [
       "<Figure size 720x504 with 1 Axes>"
      ]
     },
     "metadata": {
      "needs_background": "light"
     },
     "output_type": "display_data"
    }
   ],
   "source": [
    "plot_cat(\"PAY_6\")"
   ]
  },
  {
   "cell_type": "markdown",
   "id": "4d6167bc",
   "metadata": {},
   "source": [
    "By analysing the above graphs we can arrive at a conclusion that if there is a delay more than 2 months there is a high chance of default."
   ]
  },
  {
   "cell_type": "code",
   "execution_count": 316,
   "id": "31a3a136",
   "metadata": {},
   "outputs": [
    {
     "name": "stdout",
     "output_type": "stream",
     "text": [
      "[  10000.  175000.  340000.  505000.  670000.  835000. 1000000.]\n"
     ]
    },
    {
     "data": {
      "text/plain": [
       "<AxesSubplot:title={'center':'LIMIT_BAL'}, xlabel='LIMIT_BAL_bin'>"
      ]
     },
     "execution_count": 316,
     "metadata": {},
     "output_type": "execute_result"
    },
    {
     "data": {
      "image/png": "[encoded data removed]",
      "text/plain": [
       "<Figure size 864x432 with 1 Axes>"
      ]
     },
     "metadata": {
      "needs_background": "light"
     },
     "output_type": "display_data"
    }
   ],
   "source": [
    "plot_binned(\"LIMIT_BAL\", 7)"
   ]
  },
  {
   "cell_type": "markdown",
   "id": "3ed3e1fe",
   "metadata": {},
   "source": [
    "Customers having high credit has a lower chance of default."
   ]
  },
  {
   "cell_type": "code",
   "execution_count": 317,
   "id": "ea1bf6f1",
   "metadata": {
    "scrolled": false
   },
   "outputs": [
    {
     "name": "stdout",
     "output_type": "stream",
     "text": [
      "[21.         30.66666667 40.33333333 50.         59.66666667 69.33333333\n",
      " 79.        ]\n"
     ]
    },
    {
     "data": {
      "text/plain": [
       "<AxesSubplot:title={'center':'AGE'}, xlabel='AGE_bin'>"
      ]
     },
     "execution_count": 317,
     "metadata": {},
     "output_type": "execute_result"
    },
    {
     "data": {
      "image/png": "[encoded data removed]",
      "text/plain": [
       "<Figure size 864x432 with 1 Axes>"
      ]
     },
     "metadata": {
      "needs_background": "light"
     },
     "output_type": "display_data"
    }
   ],
   "source": [
    "plot_binned(\"AGE\", 7)"
   ]
  },
  {
   "cell_type": "markdown",
   "id": "d59b2d9f",
   "metadata": {},
   "source": [
    "Customers of age between 50 and 60 have a higher chance of default."
   ]
  },
  {
   "cell_type": "markdown",
   "id": "91c8af20",
   "metadata": {},
   "source": [
    "### Pre-processing"
   ]
  },
  {
   "cell_type": "code",
   "execution_count": 318,
   "id": "b521526c",
   "metadata": {},
   "outputs": [
    {
     "data": {
      "text/plain": [
       "['SEX',\n",
       " 'EDUCATION',\n",
       " 'MARRIAGE',\n",
       " 'PAY_1',\n",
       " 'PAY_2',\n",
       " 'PAY_3',\n",
       " 'PAY_4',\n",
       " 'PAY_5',\n",
       " 'PAY_6']"
      ]
     },
     "execution_count": 318,
     "metadata": {},
     "output_type": "execute_result"
    }
   ],
   "source": [
    "cat_cols"
   ]
  },
  {
   "cell_type": "markdown",
   "id": "abfe2e4d",
   "metadata": {},
   "source": [
    "#### Encoding the categorical columns"
   ]
  },
  {
   "cell_type": "code",
   "execution_count": 319,
   "id": "3e060476",
   "metadata": {},
   "outputs": [],
   "source": [
    "test_df = pd.concat([df,pd.get_dummies(df[cat_cols], columns=cat_cols, drop_first=True)], axis=1)\n",
    "\n",
    "# drop the original columns\n",
    "test_df.drop(cat_cols, axis=1, inplace=True)"
   ]
  },
  {
   "cell_type": "code",
   "execution_count": 320,
   "id": "e0ed4a4f",
   "metadata": {},
   "outputs": [
    {
     "data": {
      "text/plain": [
       "(30000, 24)"
      ]
     },
     "execution_count": 320,
     "metadata": {},
     "output_type": "execute_result"
    }
   ],
   "source": [
    "df.shape"
   ]
  },
  {
   "cell_type": "code",
   "execution_count": 321,
   "id": "ce2789d6",
   "metadata": {},
   "outputs": [
    {
     "data": {
      "text/plain": [
       "(30000, 67)"
      ]
     },
     "execution_count": 321,
     "metadata": {},
     "output_type": "execute_result"
    }
   ],
   "source": [
    "test_df.shape"
   ]
  },
  {
   "cell_type": "markdown",
   "id": "674b3e5f",
   "metadata": {},
   "source": [
    "### Handling the imbalance in the Dataset"
   ]
  },
  {
   "cell_type": "code",
   "execution_count": 322,
   "id": "5f674912",
   "metadata": {},
   "outputs": [
    {
     "name": "stdout",
     "output_type": "stream",
     "text": [
      "Class Balance count :  (47296,)\n"
     ]
    }
   ],
   "source": [
    "from imblearn.over_sampling import ADASYN\n",
    "y = test_df[\"defaulted\"]\n",
    "X = test_df.drop([\"defaulted\"],axis=1)\n",
    "\n",
    "adasyn = ADASYN(random_state=42)\n",
    "X, y = adasyn.fit_resample(X, y)\n",
    "\n",
    "print('Class Balance count : ',y.shape)"
   ]
  },
  {
   "cell_type": "code",
   "execution_count": 324,
   "id": "83067fb6",
   "metadata": {
    "scrolled": true
   },
   "outputs": [
    {
     "data": {
      "text/plain": [
       "1    23932\n",
       "0    23364\n",
       "Name: defaulted, dtype: int64"
      ]
     },
     "execution_count": 324,
     "metadata": {},
     "output_type": "execute_result"
    }
   ],
   "source": [
    "y.value_counts()"
   ]
  },
  {
   "cell_type": "code",
   "execution_count": 325,
   "id": "f48e4fc5",
   "metadata": {},
   "outputs": [],
   "source": [
    "from sklearn.model_selection import train_test_split\n",
    "X_train, X_test, y_train, y_test = train_test_split(X, y, test_size=0.2)"
   ]
  },
  {
   "cell_type": "code",
   "execution_count": 326,
   "id": "81184a4f",
   "metadata": {},
   "outputs": [],
   "source": [
    "from sklearn.preprocessing import StandardScaler\n",
    "scaler = StandardScaler()\n",
    "X_train = scaler.fit_transform(X_train)\n",
    "X_test = scaler.transform(X_test)"
   ]
  },
  {
   "cell_type": "markdown",
   "id": "1af43c77",
   "metadata": {},
   "source": [
    "## Model Building"
   ]
  },
  {
   "cell_type": "markdown",
   "id": "216b1dbe",
   "metadata": {},
   "source": [
    "### 1. Random Forest"
   ]
  },
  {
   "cell_type": "code",
   "execution_count": 327,
   "id": "953345bc",
   "metadata": {},
   "outputs": [
    {
     "data": {
      "text/plain": [
       "0.8261099365750528"
      ]
     },
     "execution_count": 327,
     "metadata": {},
     "output_type": "execute_result"
    }
   ],
   "source": [
    "from sklearn.ensemble import RandomForestClassifier\n",
    "rf = RandomForestClassifier()\n",
    "rf.fit(X_train, y_train)\n",
    "rf.score(X_test, y_test)"
   ]
  },
  {
   "cell_type": "markdown",
   "id": "df55c7e3",
   "metadata": {},
   "source": [
    "Using GridSeachCV found the best parameters for the model."
   ]
  },
  {
   "cell_type": "code",
   "execution_count": 212,
   "id": "9e0e9e95",
   "metadata": {
    "scrolled": true
   },
   "outputs": [
    {
     "name": "stdout",
     "output_type": "stream",
     "text": [
      "Fitting 5 folds for each of 18 candidates, totalling 90 fits\n",
      "[CV] END criterion=gini, max_features=sqrt, n_estimators=200; total time=   9.7s\n",
      "[CV] END criterion=gini, max_features=sqrt, n_estimators=200; total time=   9.6s\n",
      "[CV] END criterion=gini, max_features=sqrt, n_estimators=200; total time=   9.7s\n",
      "[CV] END criterion=gini, max_features=sqrt, n_estimators=200; total time=   9.6s\n",
      "[CV] END criterion=gini, max_features=sqrt, n_estimators=200; total time=   9.6s\n",
      "[CV] END criterion=gini, max_features=sqrt, n_estimators=500; total time=  24.3s\n",
      "[CV] END criterion=gini, max_features=sqrt, n_estimators=500; total time=  24.1s\n",
      "[CV] END criterion=gini, max_features=sqrt, n_estimators=500; total time=  24.2s\n",
      "[CV] END criterion=gini, max_features=sqrt, n_estimators=500; total time=  24.2s\n",
      "[CV] END criterion=gini, max_features=sqrt, n_estimators=500; total time=  24.3s\n",
      "[CV] END criterion=gini, max_features=log2, n_estimators=200; total time=   8.1s\n",
      "[CV] END criterion=gini, max_features=log2, n_estimators=200; total time=   8.1s\n",
      "[CV] END criterion=gini, max_features=log2, n_estimators=200; total time=   8.1s\n",
      "[CV] END criterion=gini, max_features=log2, n_estimators=200; total time=   8.2s\n",
      "[CV] END criterion=gini, max_features=log2, n_estimators=200; total time=   8.2s\n",
      "[CV] END criterion=gini, max_features=log2, n_estimators=500; total time=  20.5s\n",
      "[CV] END criterion=gini, max_features=log2, n_estimators=500; total time=  21.0s\n",
      "[CV] END criterion=gini, max_features=log2, n_estimators=500; total time=  20.8s\n",
      "[CV] END criterion=gini, max_features=log2, n_estimators=500; total time=  20.5s\n",
      "[CV] END criterion=gini, max_features=log2, n_estimators=500; total time=  20.7s\n",
      "[CV] END criterion=gini, max_features=None, n_estimators=200; total time=  59.9s\n",
      "[CV] END criterion=gini, max_features=None, n_estimators=200; total time=  59.5s\n",
      "[CV] END criterion=gini, max_features=None, n_estimators=200; total time= 1.0min\n",
      "[CV] END criterion=gini, max_features=None, n_estimators=200; total time=  59.3s\n",
      "[CV] END criterion=gini, max_features=None, n_estimators=200; total time=  59.7s\n",
      "[CV] END criterion=gini, max_features=None, n_estimators=500; total time= 2.5min\n",
      "[CV] END criterion=gini, max_features=None, n_estimators=500; total time= 2.5min\n",
      "[CV] END criterion=gini, max_features=None, n_estimators=500; total time= 2.6min\n",
      "[CV] END criterion=gini, max_features=None, n_estimators=500; total time= 2.5min\n",
      "[CV] END criterion=gini, max_features=None, n_estimators=500; total time= 2.5min\n",
      "[CV] END criterion=entropy, max_features=sqrt, n_estimators=200; total time=  13.1s\n",
      "[CV] END criterion=entropy, max_features=sqrt, n_estimators=200; total time=  13.1s\n",
      "[CV] END criterion=entropy, max_features=sqrt, n_estimators=200; total time=  13.0s\n",
      "[CV] END criterion=entropy, max_features=sqrt, n_estimators=200; total time=  13.0s\n",
      "[CV] END criterion=entropy, max_features=sqrt, n_estimators=200; total time=  13.1s\n",
      "[CV] END criterion=entropy, max_features=sqrt, n_estimators=500; total time=  32.7s\n",
      "[CV] END criterion=entropy, max_features=sqrt, n_estimators=500; total time=  33.2s\n",
      "[CV] END criterion=entropy, max_features=sqrt, n_estimators=500; total time=  33.0s\n",
      "[CV] END criterion=entropy, max_features=sqrt, n_estimators=500; total time=  33.1s\n",
      "[CV] END criterion=entropy, max_features=sqrt, n_estimators=500; total time=  33.9s\n",
      "[CV] END criterion=entropy, max_features=log2, n_estimators=200; total time=  10.9s\n",
      "[CV] END criterion=entropy, max_features=log2, n_estimators=200; total time=  11.0s\n",
      "[CV] END criterion=entropy, max_features=log2, n_estimators=200; total time=  11.0s\n",
      "[CV] END criterion=entropy, max_features=log2, n_estimators=200; total time=  11.0s\n",
      "[CV] END criterion=entropy, max_features=log2, n_estimators=200; total time=  11.0s\n",
      "[CV] END criterion=entropy, max_features=log2, n_estimators=500; total time=  27.6s\n",
      "[CV] END criterion=entropy, max_features=log2, n_estimators=500; total time=  27.8s\n",
      "[CV] END criterion=entropy, max_features=log2, n_estimators=500; total time=  27.6s\n",
      "[CV] END criterion=entropy, max_features=log2, n_estimators=500; total time=  27.7s\n",
      "[CV] END criterion=entropy, max_features=log2, n_estimators=500; total time=  27.7s\n",
      "[CV] END criterion=entropy, max_features=None, n_estimators=200; total time= 1.3min\n",
      "[CV] END criterion=entropy, max_features=None, n_estimators=200; total time= 1.3min\n",
      "[CV] END criterion=entropy, max_features=None, n_estimators=200; total time= 1.3min\n",
      "[CV] END criterion=entropy, max_features=None, n_estimators=200; total time= 1.3min\n",
      "[CV] END criterion=entropy, max_features=None, n_estimators=200; total time= 1.3min\n",
      "[CV] END criterion=entropy, max_features=None, n_estimators=500; total time= 3.3min\n",
      "[CV] END criterion=entropy, max_features=None, n_estimators=500; total time= 3.7min\n",
      "[CV] END criterion=entropy, max_features=None, n_estimators=500; total time= 3.4min\n",
      "[CV] END criterion=entropy, max_features=None, n_estimators=500; total time= 3.3min\n",
      "[CV] END criterion=entropy, max_features=None, n_estimators=500; total time= 3.7min\n",
      "[CV] END criterion=log_loss, max_features=sqrt, n_estimators=200; total time=  13.3s\n",
      "[CV] END criterion=log_loss, max_features=sqrt, n_estimators=200; total time=  13.2s\n",
      "[CV] END criterion=log_loss, max_features=sqrt, n_estimators=200; total time=  13.3s\n",
      "[CV] END criterion=log_loss, max_features=sqrt, n_estimators=200; total time=  13.3s\n",
      "[CV] END criterion=log_loss, max_features=sqrt, n_estimators=200; total time=  13.3s\n",
      "[CV] END criterion=log_loss, max_features=sqrt, n_estimators=500; total time=  33.5s\n",
      "[CV] END criterion=log_loss, max_features=sqrt, n_estimators=500; total time=  33.8s\n",
      "[CV] END criterion=log_loss, max_features=sqrt, n_estimators=500; total time=  33.2s\n",
      "[CV] END criterion=log_loss, max_features=sqrt, n_estimators=500; total time=  33.3s\n",
      "[CV] END criterion=log_loss, max_features=sqrt, n_estimators=500; total time=  34.1s\n",
      "[CV] END criterion=log_loss, max_features=log2, n_estimators=200; total time=  11.1s\n",
      "[CV] END criterion=log_loss, max_features=log2, n_estimators=200; total time=  11.5s\n",
      "[CV] END criterion=log_loss, max_features=log2, n_estimators=200; total time=  11.6s\n",
      "[CV] END criterion=log_loss, max_features=log2, n_estimators=200; total time=  11.1s\n",
      "[CV] END criterion=log_loss, max_features=log2, n_estimators=200; total time=  11.1s\n",
      "[CV] END criterion=log_loss, max_features=log2, n_estimators=500; total time=  27.9s\n",
      "[CV] END criterion=log_loss, max_features=log2, n_estimators=500; total time=  28.1s\n",
      "[CV] END criterion=log_loss, max_features=log2, n_estimators=500; total time=  27.8s\n",
      "[CV] END criterion=log_loss, max_features=log2, n_estimators=500; total time=  27.8s\n",
      "[CV] END criterion=log_loss, max_features=log2, n_estimators=500; total time=  27.9s\n",
      "[CV] END criterion=log_loss, max_features=None, n_estimators=200; total time= 1.3min\n",
      "[CV] END criterion=log_loss, max_features=None, n_estimators=200; total time= 1.3min\n",
      "[CV] END criterion=log_loss, max_features=None, n_estimators=200; total time= 1.4min\n",
      "[CV] END criterion=log_loss, max_features=None, n_estimators=200; total time= 1.3min\n",
      "[CV] END criterion=log_loss, max_features=None, n_estimators=200; total time= 1.3min\n",
      "[CV] END criterion=log_loss, max_features=None, n_estimators=500; total time= 3.4min\n",
      "[CV] END criterion=log_loss, max_features=None, n_estimators=500; total time= 3.4min\n",
      "[CV] END criterion=log_loss, max_features=None, n_estimators=500; total time= 3.4min\n",
      "[CV] END criterion=log_loss, max_features=None, n_estimators=500; total time= 3.4min\n",
      "[CV] END criterion=log_loss, max_features=None, n_estimators=500; total time= 3.4min\n"
     ]
    },
    {
     "data": {
      "text/html": [
       "<style>#sk-container-id-10 {color: black;background-color: white;}#sk-container-id-10 pre{padding: 0;}#sk-container-id-10 div.sk-toggleable {background-color: white;}#sk-container-id-10 label.sk-toggleable__label {cursor: pointer;display: block;width: 100%;margin-bottom: 0;padding: 0.3em;box-sizing: border-box;text-align: center;}#sk-container-id-10 label.sk-toggleable__label-arrow:before {content: \"▸\";float: left;margin-right: 0.25em;color: #696969;}#sk-container-id-10 label.sk-toggleable__label-arrow:hover:before {color: black;}#sk-container-id-10 div.sk-estimator:hover label.sk-toggleable__label-arrow:before {color: black;}#sk-container-id-10 div.sk-toggleable__content {max-height: 0;max-width: 0;overflow: hidden;text-align: left;background-color: #f0f8ff;}#sk-container-id-10 div.sk-toggleable__content pre {margin: 0.2em;color: black;border-radius: 0.25em;background-color: #f0f8ff;}#sk-container-id-10 input.sk-toggleable__control:checked~div.sk-toggleable__content {max-height: 200px;max-width: 100%;overflow: auto;}#sk-container-id-10 input.sk-toggleable__control:checked~label.sk-toggleable__label-arrow:before {content: \"▾\";}#sk-container-id-10 div.sk-estimator input.sk-toggleable__control:checked~label.sk-toggleable__label {background-color: #d4ebff;}#sk-container-id-10 div.sk-label input.sk-toggleable__control:checked~label.sk-toggleable__label {background-color: #d4ebff;}#sk-container-id-10 input.sk-hidden--visually {border: 0;clip: rect(1px 1px 1px 1px);clip: rect(1px, 1px, 1px, 1px);height: 1px;margin: -1px;overflow: hidden;padding: 0;position: absolute;width: 1px;}#sk-container-id-10 div.sk-estimator {font-family: monospace;background-color: #f0f8ff;border: 1px dotted black;border-radius: 0.25em;box-sizing: border-box;margin-bottom: 0.5em;}#sk-container-id-10 div.sk-estimator:hover {background-color: #d4ebff;}#sk-container-id-10 div.sk-parallel-item::after {content: \"\";width: 100%;border-bottom: 1px solid gray;flex-grow: 1;}#sk-container-id-10 div.sk-label:hover label.sk-toggleable__label {background-color: #d4ebff;}#sk-container-id-10 div.sk-serial::before {content: \"\";position: absolute;border-left: 1px solid gray;box-sizing: border-box;top: 0;bottom: 0;left: 50%;z-index: 0;}#sk-container-id-10 div.sk-serial {display: flex;flex-direction: column;align-items: center;background-color: white;padding-right: 0.2em;padding-left: 0.2em;position: relative;}#sk-container-id-10 div.sk-item {position: relative;z-index: 1;}#sk-container-id-10 div.sk-parallel {display: flex;align-items: stretch;justify-content: center;background-color: white;position: relative;}#sk-container-id-10 div.sk-item::before, #sk-container-id-10 div.sk-parallel-item::before {content: \"\";position: absolute;border-left: 1px solid gray;box-sizing: border-box;top: 0;bottom: 0;left: 50%;z-index: -1;}#sk-container-id-10 div.sk-parallel-item {display: flex;flex-direction: column;z-index: 1;position: relative;background-color: white;}#sk-container-id-10 div.sk-parallel-item:first-child::after {align-self: flex-end;width: 50%;}#sk-container-id-10 div.sk-parallel-item:last-child::after {align-self: flex-start;width: 50%;}#sk-container-id-10 div.sk-parallel-item:only-child::after {width: 0;}#sk-container-id-10 div.sk-dashed-wrapped {border: 1px dashed gray;margin: 0 0.4em 0.5em 0.4em;box-sizing: border-box;padding-bottom: 0.4em;background-color: white;}#sk-container-id-10 div.sk-label label {font-family: monospace;font-weight: bold;display: inline-block;line-height: 1.2em;}#sk-container-id-10 div.sk-label-container {text-align: center;}#sk-container-id-10 div.sk-container {/* jupyter's `normalize.less` sets `[hidden] { display: none; }` but bootstrap.min.css set `[hidden] { display: none !important; }` so we also need the `!important` here to be able to override the default hidden behavior on the sphinx rendered scikit-learn.org. See: https://github.com/scikit-learn/scikit-learn/issues/21755 */display: inline-block !important;position: relative;}#sk-container-id-10 div.sk-text-repr-fallback {display: none;}</style><div id=\"sk-container-id-10\" class=\"sk-top-container\"><div class=\"sk-text-repr-fallback\"><pre>GridSearchCV(cv=5, estimator=RandomForestClassifier(),\n",
       "             param_grid=[{&#x27;criterion&#x27;: [&#x27;gini&#x27;, &#x27;entropy&#x27;, &#x27;log_loss&#x27;],\n",
       "                          &#x27;max_features&#x27;: [&#x27;sqrt&#x27;, &#x27;log2&#x27;, None],\n",
       "                          &#x27;n_estimators&#x27;: [200, 500]}],\n",
       "             scoring=&#x27;f1&#x27;, verbose=2)</pre><b>In a Jupyter environment, please rerun this cell to show the HTML representation or trust the notebook. <br />On GitHub, the HTML representation is unable to render, please try loading this page with nbviewer.org.</b></div><div class=\"sk-container\" hidden><div class=\"sk-item sk-dashed-wrapped\"><div class=\"sk-label-container\"><div class=\"sk-label sk-toggleable\"><input class=\"sk-toggleable__control sk-hidden--visually\" id=\"sk-estimator-id-26\" type=\"checkbox\" ><label for=\"sk-estimator-id-26\" class=\"sk-toggleable__label sk-toggleable__label-arrow\">GridSearchCV</label><div class=\"sk-toggleable__content\"><pre>GridSearchCV(cv=5, estimator=RandomForestClassifier(),\n",
       "             param_grid=[{&#x27;criterion&#x27;: [&#x27;gini&#x27;, &#x27;entropy&#x27;, &#x27;log_loss&#x27;],\n",
       "                          &#x27;max_features&#x27;: [&#x27;sqrt&#x27;, &#x27;log2&#x27;, None],\n",
       "                          &#x27;n_estimators&#x27;: [200, 500]}],\n",
       "             scoring=&#x27;f1&#x27;, verbose=2)</pre></div></div></div><div class=\"sk-parallel\"><div class=\"sk-parallel-item\"><div class=\"sk-item\"><div class=\"sk-label-container\"><div class=\"sk-label sk-toggleable\"><input class=\"sk-toggleable__control sk-hidden--visually\" id=\"sk-estimator-id-27\" type=\"checkbox\" ><label for=\"sk-estimator-id-27\" class=\"sk-toggleable__label sk-toggleable__label-arrow\">estimator: RandomForestClassifier</label><div class=\"sk-toggleable__content\"><pre>RandomForestClassifier()</pre></div></div></div><div class=\"sk-serial\"><div class=\"sk-item\"><div class=\"sk-estimator sk-toggleable\"><input class=\"sk-toggleable__control sk-hidden--visually\" id=\"sk-estimator-id-28\" type=\"checkbox\" ><label for=\"sk-estimator-id-28\" class=\"sk-toggleable__label sk-toggleable__label-arrow\">RandomForestClassifier</label><div class=\"sk-toggleable__content\"><pre>RandomForestClassifier()</pre></div></div></div></div></div></div></div></div></div></div>"
      ],
      "text/plain": [
       "GridSearchCV(cv=5, estimator=RandomForestClassifier(),\n",
       "             param_grid=[{'criterion': ['gini', 'entropy', 'log_loss'],\n",
       "                          'max_features': ['sqrt', 'log2', None],\n",
       "                          'n_estimators': [200, 500]}],\n",
       "             scoring='f1', verbose=2)"
      ]
     },
     "execution_count": 212,
     "metadata": {},
     "output_type": "execute_result"
    }
   ],
   "source": [
    "#Fitting Decision Tree classifier to the training set  \n",
    "# from sklearn.ensemble import RandomForestClassifier\n",
    "# from sklearn.model_selection import GridSearchCV\n",
    "# classifier= RandomForestClassifier()  \n",
    "# parameters = [{'n_estimators': [200, 500],\n",
    "#                 'criterion' :['gini', 'entropy','log_loss'],\n",
    "#               \"max_features\": [\"sqrt\", \"log2\", None]}]\n",
    "# grid_search_rfc = GridSearchCV(verbose=2, estimator=classifier, param_grid=parameters, cv= 5,\n",
    "#                                scoring=\"f1\")\n",
    "# grid_search_rfc.fit(X_train, y_train)"
   ]
  },
  {
   "cell_type": "code",
   "execution_count": 328,
   "id": "aab1316f",
   "metadata": {},
   "outputs": [
    {
     "name": "stdout",
     "output_type": "stream",
     "text": [
      "Best F1 score: 82.83 %\n",
      "Best Parameters: {'criterion': 'gini', 'max_features': 'log2', 'n_estimators': 500}\n"
     ]
    }
   ],
   "source": [
    "best_accuracy = grid_search_rfc.best_score_\n",
    "best_parameters = grid_search_rfc.best_params_\n",
    "print(\"Best F1 score: {:.2f} %\".format(best_accuracy*100))\n",
    "print(\"Best Parameters:\", best_parameters)"
   ]
  },
  {
   "cell_type": "code",
   "execution_count": 329,
   "id": "d1cba92a",
   "metadata": {},
   "outputs": [
    {
     "name": "stdout",
     "output_type": "stream",
     "text": [
      "r2 score :  0.8325581395348837\n"
     ]
    }
   ],
   "source": [
    "from sklearn.ensemble import RandomForestClassifier\n",
    "\n",
    "rf = RandomForestClassifier(criterion= 'gini', max_features= 'log2', n_estimators= 500)\n",
    "rf.fit(X_train, y_train)\n",
    "\n",
    "print(\"r2 score : \",rf.score(X_test, y_test))\n",
    "\n",
    "#Predicting the test set result  \n",
    "y_pred = rf.predict(X_test)  \n",
    "\n",
    "#Creating the Confusion matrix  \n",
    "from sklearn.metrics import confusion_matrix,accuracy_score,f1_score,classification_report\n",
    "\n",
    "cm = confusion_matrix(y_test, y_pred)  "
   ]
  },
  {
   "cell_type": "code",
   "execution_count": 330,
   "id": "d6b200f1",
   "metadata": {},
   "outputs": [
    {
     "name": "stdout",
     "output_type": "stream",
     "text": [
      "Confusion Matrix : \n",
      " [[3886  759]\n",
      " [ 825 3990]]\n",
      "Accuracy score : \n",
      "\t 0.8325581395348837\n",
      "F1 Score : \n",
      "\t 0.8343789209535758\n",
      "Classification Report:\n",
      "               precision    recall  f1-score   support\n",
      "\n",
      "           0       0.82      0.84      0.83      4645\n",
      "           1       0.84      0.83      0.83      4815\n",
      "\n",
      "    accuracy                           0.83      9460\n",
      "   macro avg       0.83      0.83      0.83      9460\n",
      "weighted avg       0.83      0.83      0.83      9460\n",
      "\n"
     ]
    }
   ],
   "source": [
    "print(\"Confusion Matrix : \\n\", cm)\n",
    "print(\"Accuracy score : \\n\\t\",accuracy_score (y_test, y_pred))  \n",
    "print(\"F1 Score : \\n\\t\", f1_score(y_test, y_pred))\n",
    "print(\"Classification Report:\\n\", classification_report (y_test, y_pred))"
   ]
  },
  {
   "cell_type": "markdown",
   "id": "44266fa8",
   "metadata": {},
   "source": [
    "### 3. Decision Tree "
   ]
  },
  {
   "cell_type": "code",
   "execution_count": 331,
   "id": "cb390387",
   "metadata": {},
   "outputs": [
    {
     "data": {
      "text/plain": [
       "0.7300211416490486"
      ]
     },
     "execution_count": 331,
     "metadata": {},
     "output_type": "execute_result"
    }
   ],
   "source": [
    "#Fitting Decision Tree classifier to the training set  \n",
    "from sklearn.tree import DecisionTreeClassifier \n",
    "dec_tree =  DecisionTreeClassifier()  \n",
    "dec_tree.fit(X_train, y_train)\n",
    "dec_tree.score(X_test, y_test)"
   ]
  },
  {
   "cell_type": "markdown",
   "id": "0374ffcb",
   "metadata": {},
   "source": [
    "#### Hyperparameter tuning using GridSearchCV "
   ]
  },
  {
   "cell_type": "code",
   "execution_count": 217,
   "id": "6ee22e70",
   "metadata": {},
   "outputs": [
    {
     "name": "stdout",
     "output_type": "stream",
     "text": [
      "Fitting 10 folds for each of 54 candidates, totalling 540 fits\n",
      "[CV] END criterion=gini, max_depth=9, max_features=None, splitter=best; total time=   0.3s\n",
      "[CV] END criterion=gini, max_depth=9, max_features=None, splitter=best; total time=   0.3s\n",
      "[CV] END criterion=gini, max_depth=9, max_features=None, splitter=best; total time=   0.3s\n",
      "[CV] END criterion=gini, max_depth=9, max_features=None, splitter=best; total time=   0.3s\n",
      "[CV] END criterion=gini, max_depth=9, max_features=None, splitter=best; total time=   0.3s\n",
      "[CV] END criterion=gini, max_depth=9, max_features=None, splitter=best; total time=   0.3s\n",
      "[CV] END criterion=gini, max_depth=9, max_features=None, splitter=best; total time=   0.3s\n",
      "[CV] END criterion=gini, max_depth=9, max_features=None, splitter=best; total time=   0.3s\n",
      "[CV] END criterion=gini, max_depth=9, max_features=None, splitter=best; total time=   0.3s\n",
      "[CV] END criterion=gini, max_depth=9, max_features=None, splitter=best; total time=   0.3s\n",
      "[CV] END criterion=gini, max_depth=9, max_features=None, splitter=random; total time=   0.0s\n",
      "[CV] END criterion=gini, max_depth=9, max_features=None, splitter=random; total time=   0.0s\n",
      "[CV] END criterion=gini, max_depth=9, max_features=None, splitter=random; total time=   0.0s\n",
      "[CV] END criterion=gini, max_depth=9, max_features=None, splitter=random; total time=   0.0s\n",
      "[CV] END criterion=gini, max_depth=9, max_features=None, splitter=random; total time=   0.0s\n",
      "[CV] END criterion=gini, max_depth=9, max_features=None, splitter=random; total time=   0.0s\n",
      "[CV] END criterion=gini, max_depth=9, max_features=None, splitter=random; total time=   0.0s\n",
      "[CV] END criterion=gini, max_depth=9, max_features=None, splitter=random; total time=   0.0s\n",
      "[CV] END criterion=gini, max_depth=9, max_features=None, splitter=random; total time=   0.0s\n",
      "[CV] END criterion=gini, max_depth=9, max_features=None, splitter=random; total time=   0.0s\n",
      "[CV] END criterion=gini, max_depth=9, max_features=sqrt, splitter=best; total time=   0.0s\n",
      "[CV] END criterion=gini, max_depth=9, max_features=sqrt, splitter=best; total time=   0.0s\n",
      "[CV] END criterion=gini, max_depth=9, max_features=sqrt, splitter=best; total time=   0.0s\n",
      "[CV] END criterion=gini, max_depth=9, max_features=sqrt, splitter=best; total time=   0.0s\n",
      "[CV] END criterion=gini, max_depth=9, max_features=sqrt, splitter=best; total time=   0.0s\n",
      "[CV] END criterion=gini, max_depth=9, max_features=sqrt, splitter=best; total time=   0.0s\n",
      "[CV] END criterion=gini, max_depth=9, max_features=sqrt, splitter=best; total time=   0.0s\n",
      "[CV] END criterion=gini, max_depth=9, max_features=sqrt, splitter=best; total time=   0.0s\n",
      "[CV] END criterion=gini, max_depth=9, max_features=sqrt, splitter=best; total time=   0.0s\n",
      "[CV] END criterion=gini, max_depth=9, max_features=sqrt, splitter=best; total time=   0.0s\n",
      "[CV] END criterion=gini, max_depth=9, max_features=sqrt, splitter=random; total time=   0.0s\n",
      "[CV] END criterion=gini, max_depth=9, max_features=sqrt, splitter=random; total time=   0.0s\n",
      "[CV] END criterion=gini, max_depth=9, max_features=sqrt, splitter=random; total time=   0.0s\n",
      "[CV] END criterion=gini, max_depth=9, max_features=sqrt, splitter=random; total time=   0.0s\n",
      "[CV] END criterion=gini, max_depth=9, max_features=sqrt, splitter=random; total time=   0.0s\n",
      "[CV] END criterion=gini, max_depth=9, max_features=sqrt, splitter=random; total time=   0.0s\n",
      "[CV] END criterion=gini, max_depth=9, max_features=sqrt, splitter=random; total time=   0.0s\n",
      "[CV] END criterion=gini, max_depth=9, max_features=sqrt, splitter=random; total time=   0.0s\n",
      "[CV] END criterion=gini, max_depth=9, max_features=sqrt, splitter=random; total time=   0.0s\n",
      "[CV] END criterion=gini, max_depth=9, max_features=sqrt, splitter=random; total time=   0.0s\n",
      "[CV] END criterion=gini, max_depth=9, max_features=log2, splitter=best; total time=   0.0s\n",
      "[CV] END criterion=gini, max_depth=9, max_features=log2, splitter=best; total time=   0.0s\n",
      "[CV] END criterion=gini, max_depth=9, max_features=log2, splitter=best; total time=   0.0s\n",
      "[CV] END criterion=gini, max_depth=9, max_features=log2, splitter=best; total time=   0.0s\n",
      "[CV] END criterion=gini, max_depth=9, max_features=log2, splitter=best; total time=   0.0s\n",
      "[CV] END criterion=gini, max_depth=9, max_features=log2, splitter=best; total time=   0.0s\n",
      "[CV] END criterion=gini, max_depth=9, max_features=log2, splitter=best; total time=   0.0s\n",
      "[CV] END criterion=gini, max_depth=9, max_features=log2, splitter=best; total time=   0.0s\n",
      "[CV] END criterion=gini, max_depth=9, max_features=log2, splitter=best; total time=   0.0s\n",
      "[CV] END criterion=gini, max_depth=9, max_features=log2, splitter=best; total time=   0.0s\n",
      "[CV] END criterion=gini, max_depth=9, max_features=log2, splitter=random; total time=   0.0s\n",
      "[CV] END criterion=gini, max_depth=9, max_features=log2, splitter=random; total time=   0.0s\n",
      "[CV] END criterion=gini, max_depth=9, max_features=log2, splitter=random; total time=   0.0s\n",
      "[CV] END criterion=gini, max_depth=9, max_features=log2, splitter=random; total time=   0.0s\n",
      "[CV] END criterion=gini, max_depth=9, max_features=log2, splitter=random; total time=   0.0s\n",
      "[CV] END criterion=gini, max_depth=9, max_features=log2, splitter=random; total time=   0.0s\n",
      "[CV] END criterion=gini, max_depth=9, max_features=log2, splitter=random; total time=   0.0s\n",
      "[CV] END criterion=gini, max_depth=9, max_features=log2, splitter=random; total time=   0.0s\n",
      "[CV] END criterion=gini, max_depth=9, max_features=log2, splitter=random; total time=   0.0s\n",
      "[CV] END criterion=gini, max_depth=9, max_features=log2, splitter=random; total time=   0.0s\n",
      "[CV] END criterion=gini, max_depth=13, max_features=None, splitter=best; total time=   0.4s\n",
      "[CV] END criterion=gini, max_depth=13, max_features=None, splitter=best; total time=   0.4s\n",
      "[CV] END criterion=gini, max_depth=13, max_features=None, splitter=best; total time=   0.4s\n",
      "[CV] END criterion=gini, max_depth=13, max_features=None, splitter=best; total time=   0.4s\n",
      "[CV] END criterion=gini, max_depth=13, max_features=None, splitter=best; total time=   0.4s\n",
      "[CV] END criterion=gini, max_depth=13, max_features=None, splitter=best; total time=   0.4s\n",
      "[CV] END criterion=gini, max_depth=13, max_features=None, splitter=best; total time=   0.4s\n",
      "[CV] END criterion=gini, max_depth=13, max_features=None, splitter=best; total time=   0.4s\n",
      "[CV] END criterion=gini, max_depth=13, max_features=None, splitter=best; total time=   0.4s\n",
      "[CV] END criterion=gini, max_depth=13, max_features=None, splitter=best; total time=   0.4s\n",
      "[CV] END criterion=gini, max_depth=13, max_features=None, splitter=random; total time=   0.0s\n",
      "[CV] END criterion=gini, max_depth=13, max_features=None, splitter=random; total time=   0.0s\n",
      "[CV] END criterion=gini, max_depth=13, max_features=None, splitter=random; total time=   0.0s\n",
      "[CV] END criterion=gini, max_depth=13, max_features=None, splitter=random; total time=   0.0s\n",
      "[CV] END criterion=gini, max_depth=13, max_features=None, splitter=random; total time=   0.0s\n",
      "[CV] END criterion=gini, max_depth=13, max_features=None, splitter=random; total time=   0.0s\n",
      "[CV] END criterion=gini, max_depth=13, max_features=None, splitter=random; total time=   0.0s\n",
      "[CV] END criterion=gini, max_depth=13, max_features=None, splitter=random; total time=   0.0s\n",
      "[CV] END criterion=gini, max_depth=13, max_features=None, splitter=random; total time=   0.0s\n",
      "[CV] END criterion=gini, max_depth=13, max_features=None, splitter=random; total time=   0.0s\n",
      "[CV] END criterion=gini, max_depth=13, max_features=sqrt, splitter=best; total time=   0.0s\n",
      "[CV] END criterion=gini, max_depth=13, max_features=sqrt, splitter=best; total time=   0.0s\n",
      "[CV] END criterion=gini, max_depth=13, max_features=sqrt, splitter=best; total time=   0.0s\n",
      "[CV] END criterion=gini, max_depth=13, max_features=sqrt, splitter=best; total time=   0.0s\n",
      "[CV] END criterion=gini, max_depth=13, max_features=sqrt, splitter=best; total time=   0.0s\n",
      "[CV] END criterion=gini, max_depth=13, max_features=sqrt, splitter=best; total time=   0.0s\n",
      "[CV] END criterion=gini, max_depth=13, max_features=sqrt, splitter=best; total time=   0.0s\n",
      "[CV] END criterion=gini, max_depth=13, max_features=sqrt, splitter=best; total time=   0.0s\n",
      "[CV] END criterion=gini, max_depth=13, max_features=sqrt, splitter=best; total time=   0.0s\n",
      "[CV] END criterion=gini, max_depth=13, max_features=sqrt, splitter=best; total time=   0.0s\n",
      "[CV] END criterion=gini, max_depth=13, max_features=sqrt, splitter=random; total time=   0.0s\n",
      "[CV] END criterion=gini, max_depth=13, max_features=sqrt, splitter=random; total time=   0.0s\n",
      "[CV] END criterion=gini, max_depth=13, max_features=sqrt, splitter=random; total time=   0.0s\n",
      "[CV] END criterion=gini, max_depth=13, max_features=sqrt, splitter=random; total time=   0.0s\n",
      "[CV] END criterion=gini, max_depth=13, max_features=sqrt, splitter=random; total time=   0.0s\n",
      "[CV] END criterion=gini, max_depth=13, max_features=sqrt, splitter=random; total time=   0.0s\n",
      "[CV] END criterion=gini, max_depth=13, max_features=sqrt, splitter=random; total time=   0.0s\n",
      "[CV] END criterion=gini, max_depth=13, max_features=sqrt, splitter=random; total time=   0.0s\n",
      "[CV] END criterion=gini, max_depth=13, max_features=sqrt, splitter=random; total time=   0.0s\n",
      "[CV] END criterion=gini, max_depth=13, max_features=sqrt, splitter=random; total time=   0.0s\n",
      "[CV] END criterion=gini, max_depth=13, max_features=log2, splitter=best; total time=   0.0s\n",
      "[CV] END criterion=gini, max_depth=13, max_features=log2, splitter=best; total time=   0.0s\n",
      "[CV] END criterion=gini, max_depth=13, max_features=log2, splitter=best; total time=   0.0s\n",
      "[CV] END criterion=gini, max_depth=13, max_features=log2, splitter=best; total time=   0.0s\n",
      "[CV] END criterion=gini, max_depth=13, max_features=log2, splitter=best; total time=   0.0s\n",
      "[CV] END criterion=gini, max_depth=13, max_features=log2, splitter=best; total time=   0.0s\n",
      "[CV] END criterion=gini, max_depth=13, max_features=log2, splitter=best; total time=   0.0s\n",
      "[CV] END criterion=gini, max_depth=13, max_features=log2, splitter=best; total time=   0.0s\n",
      "[CV] END criterion=gini, max_depth=13, max_features=log2, splitter=best; total time=   0.0s\n",
      "[CV] END criterion=gini, max_depth=13, max_features=log2, splitter=best; total time=   0.0s\n",
      "[CV] END criterion=gini, max_depth=13, max_features=log2, splitter=random; total time=   0.0s\n",
      "[CV] END criterion=gini, max_depth=13, max_features=log2, splitter=random; total time=   0.0s\n",
      "[CV] END criterion=gini, max_depth=13, max_features=log2, splitter=random; total time=   0.0s\n",
      "[CV] END criterion=gini, max_depth=13, max_features=log2, splitter=random; total time=   0.0s\n",
      "[CV] END criterion=gini, max_depth=13, max_features=log2, splitter=random; total time=   0.0s\n",
      "[CV] END criterion=gini, max_depth=13, max_features=log2, splitter=random; total time=   0.0s\n",
      "[CV] END criterion=gini, max_depth=13, max_features=log2, splitter=random; total time=   0.0s\n",
      "[CV] END criterion=gini, max_depth=13, max_features=log2, splitter=random; total time=   0.0s\n",
      "[CV] END criterion=gini, max_depth=13, max_features=log2, splitter=random; total time=   0.0s\n",
      "[CV] END criterion=gini, max_depth=13, max_features=log2, splitter=random; total time=   0.0s\n",
      "[CV] END criterion=gini, max_depth=15, max_features=None, splitter=best; total time=   0.4s\n",
      "[CV] END criterion=gini, max_depth=15, max_features=None, splitter=best; total time=   0.4s\n",
      "[CV] END criterion=gini, max_depth=15, max_features=None, splitter=best; total time=   0.4s\n",
      "[CV] END criterion=gini, max_depth=15, max_features=None, splitter=best; total time=   0.5s\n",
      "[CV] END criterion=gini, max_depth=15, max_features=None, splitter=best; total time=   0.5s\n",
      "[CV] END criterion=gini, max_depth=15, max_features=None, splitter=best; total time=   0.4s\n",
      "[CV] END criterion=gini, max_depth=15, max_features=None, splitter=best; total time=   0.4s\n",
      "[CV] END criterion=gini, max_depth=15, max_features=None, splitter=best; total time=   0.4s\n",
      "[CV] END criterion=gini, max_depth=15, max_features=None, splitter=best; total time=   0.4s\n",
      "[CV] END criterion=gini, max_depth=15, max_features=None, splitter=best; total time=   0.4s\n",
      "[CV] END criterion=gini, max_depth=15, max_features=None, splitter=random; total time=   0.0s\n",
      "[CV] END criterion=gini, max_depth=15, max_features=None, splitter=random; total time=   0.0s\n",
      "[CV] END criterion=gini, max_depth=15, max_features=None, splitter=random; total time=   0.0s\n",
      "[CV] END criterion=gini, max_depth=15, max_features=None, splitter=random; total time=   0.0s\n",
      "[CV] END criterion=gini, max_depth=15, max_features=None, splitter=random; total time=   0.0s\n",
      "[CV] END criterion=gini, max_depth=15, max_features=None, splitter=random; total time=   0.0s\n",
      "[CV] END criterion=gini, max_depth=15, max_features=None, splitter=random; total time=   0.0s\n",
      "[CV] END criterion=gini, max_depth=15, max_features=None, splitter=random; total time=   0.0s\n",
      "[CV] END criterion=gini, max_depth=15, max_features=None, splitter=random; total time=   0.0s\n",
      "[CV] END criterion=gini, max_depth=15, max_features=None, splitter=random; total time=   0.0s\n",
      "[CV] END criterion=gini, max_depth=15, max_features=sqrt, splitter=best; total time=   0.0s\n",
      "[CV] END criterion=gini, max_depth=15, max_features=sqrt, splitter=best; total time=   0.0s\n",
      "[CV] END criterion=gini, max_depth=15, max_features=sqrt, splitter=best; total time=   0.0s\n",
      "[CV] END criterion=gini, max_depth=15, max_features=sqrt, splitter=best; total time=   0.0s\n",
      "[CV] END criterion=gini, max_depth=15, max_features=sqrt, splitter=best; total time=   0.0s\n",
      "[CV] END criterion=gini, max_depth=15, max_features=sqrt, splitter=best; total time=   0.0s\n",
      "[CV] END criterion=gini, max_depth=15, max_features=sqrt, splitter=best; total time=   0.0s\n",
      "[CV] END criterion=gini, max_depth=15, max_features=sqrt, splitter=best; total time=   0.0s\n",
      "[CV] END criterion=gini, max_depth=15, max_features=sqrt, splitter=best; total time=   0.0s\n",
      "[CV] END criterion=gini, max_depth=15, max_features=sqrt, splitter=best; total time=   0.0s\n",
      "[CV] END criterion=gini, max_depth=15, max_features=sqrt, splitter=random; total time=   0.0s\n",
      "[CV] END criterion=gini, max_depth=15, max_features=sqrt, splitter=random; total time=   0.0s\n",
      "[CV] END criterion=gini, max_depth=15, max_features=sqrt, splitter=random; total time=   0.0s\n",
      "[CV] END criterion=gini, max_depth=15, max_features=sqrt, splitter=random; total time=   0.0s\n",
      "[CV] END criterion=gini, max_depth=15, max_features=sqrt, splitter=random; total time=   0.0s\n",
      "[CV] END criterion=gini, max_depth=15, max_features=sqrt, splitter=random; total time=   0.0s\n",
      "[CV] END criterion=gini, max_depth=15, max_features=sqrt, splitter=random; total time=   0.0s\n",
      "[CV] END criterion=gini, max_depth=15, max_features=sqrt, splitter=random; total time=   0.0s\n",
      "[CV] END criterion=gini, max_depth=15, max_features=sqrt, splitter=random; total time=   0.0s\n",
      "[CV] END criterion=gini, max_depth=15, max_features=sqrt, splitter=random; total time=   0.0s\n",
      "[CV] END criterion=gini, max_depth=15, max_features=log2, splitter=best; total time=   0.0s\n",
      "[CV] END criterion=gini, max_depth=15, max_features=log2, splitter=best; total time=   0.0s\n",
      "[CV] END criterion=gini, max_depth=15, max_features=log2, splitter=best; total time=   0.0s\n",
      "[CV] END criterion=gini, max_depth=15, max_features=log2, splitter=best; total time=   0.0s\n",
      "[CV] END criterion=gini, max_depth=15, max_features=log2, splitter=best; total time=   0.0s\n",
      "[CV] END criterion=gini, max_depth=15, max_features=log2, splitter=best; total time=   0.0s\n",
      "[CV] END criterion=gini, max_depth=15, max_features=log2, splitter=best; total time=   0.0s\n",
      "[CV] END criterion=gini, max_depth=15, max_features=log2, splitter=best; total time=   0.0s\n",
      "[CV] END criterion=gini, max_depth=15, max_features=log2, splitter=best; total time=   0.0s\n",
      "[CV] END criterion=gini, max_depth=15, max_features=log2, splitter=best; total time=   0.0s\n",
      "[CV] END criterion=gini, max_depth=15, max_features=log2, splitter=random; total time=   0.0s\n",
      "[CV] END criterion=gini, max_depth=15, max_features=log2, splitter=random; total time=   0.0s\n",
      "[CV] END criterion=gini, max_depth=15, max_features=log2, splitter=random; total time=   0.0s\n",
      "[CV] END criterion=gini, max_depth=15, max_features=log2, splitter=random; total time=   0.0s\n",
      "[CV] END criterion=gini, max_depth=15, max_features=log2, splitter=random; total time=   0.0s\n",
      "[CV] END criterion=gini, max_depth=15, max_features=log2, splitter=random; total time=   0.0s\n",
      "[CV] END criterion=gini, max_depth=15, max_features=log2, splitter=random; total time=   0.0s\n",
      "[CV] END criterion=gini, max_depth=15, max_features=log2, splitter=random; total time=   0.0s\n",
      "[CV] END criterion=gini, max_depth=15, max_features=log2, splitter=random; total time=   0.0s\n",
      "[CV] END criterion=gini, max_depth=15, max_features=log2, splitter=random; total time=   0.0s\n",
      "[CV] END criterion=entropy, max_depth=9, max_features=None, splitter=best; total time=   0.4s\n",
      "[CV] END criterion=entropy, max_depth=9, max_features=None, splitter=best; total time=   0.4s\n",
      "[CV] END criterion=entropy, max_depth=9, max_features=None, splitter=best; total time=   0.4s\n",
      "[CV] END criterion=entropy, max_depth=9, max_features=None, splitter=best; total time=   0.4s\n",
      "[CV] END criterion=entropy, max_depth=9, max_features=None, splitter=best; total time=   0.4s\n",
      "[CV] END criterion=entropy, max_depth=9, max_features=None, splitter=best; total time=   0.4s\n",
      "[CV] END criterion=entropy, max_depth=9, max_features=None, splitter=best; total time=   0.4s\n",
      "[CV] END criterion=entropy, max_depth=9, max_features=None, splitter=best; total time=   0.4s\n",
      "[CV] END criterion=entropy, max_depth=9, max_features=None, splitter=best; total time=   0.4s\n",
      "[CV] END criterion=entropy, max_depth=9, max_features=None, splitter=best; total time=   0.4s\n",
      "[CV] END criterion=entropy, max_depth=9, max_features=None, splitter=random; total time=   0.0s\n",
      "[CV] END criterion=entropy, max_depth=9, max_features=None, splitter=random; total time=   0.0s\n",
      "[CV] END criterion=entropy, max_depth=9, max_features=None, splitter=random; total time=   0.0s\n",
      "[CV] END criterion=entropy, max_depth=9, max_features=None, splitter=random; total time=   0.0s\n",
      "[CV] END criterion=entropy, max_depth=9, max_features=None, splitter=random; total time=   0.0s\n",
      "[CV] END criterion=entropy, max_depth=9, max_features=None, splitter=random; total time=   0.0s\n",
      "[CV] END criterion=entropy, max_depth=9, max_features=None, splitter=random; total time=   0.0s\n",
      "[CV] END criterion=entropy, max_depth=9, max_features=None, splitter=random; total time=   0.0s\n",
      "[CV] END criterion=entropy, max_depth=9, max_features=None, splitter=random; total time=   0.0s\n",
      "[CV] END criterion=entropy, max_depth=9, max_features=None, splitter=random; total time=   0.0s\n",
      "[CV] END criterion=entropy, max_depth=9, max_features=sqrt, splitter=best; total time=   0.0s\n",
      "[CV] END criterion=entropy, max_depth=9, max_features=sqrt, splitter=best; total time=   0.0s\n",
      "[CV] END criterion=entropy, max_depth=9, max_features=sqrt, splitter=best; total time=   0.0s\n",
      "[CV] END criterion=entropy, max_depth=9, max_features=sqrt, splitter=best; total time=   0.0s\n",
      "[CV] END criterion=entropy, max_depth=9, max_features=sqrt, splitter=best; total time=   0.0s\n",
      "[CV] END criterion=entropy, max_depth=9, max_features=sqrt, splitter=best; total time=   0.0s\n",
      "[CV] END criterion=entropy, max_depth=9, max_features=sqrt, splitter=best; total time=   0.0s\n",
      "[CV] END criterion=entropy, max_depth=9, max_features=sqrt, splitter=best; total time=   0.0s\n",
      "[CV] END criterion=entropy, max_depth=9, max_features=sqrt, splitter=best; total time=   0.0s\n",
      "[CV] END criterion=entropy, max_depth=9, max_features=sqrt, splitter=best; total time=   0.0s\n",
      "[CV] END criterion=entropy, max_depth=9, max_features=sqrt, splitter=random; total time=   0.0s\n",
      "[CV] END criterion=entropy, max_depth=9, max_features=sqrt, splitter=random; total time=   0.0s\n",
      "[CV] END criterion=entropy, max_depth=9, max_features=sqrt, splitter=random; total time=   0.0s\n",
      "[CV] END criterion=entropy, max_depth=9, max_features=sqrt, splitter=random; total time=   0.0s\n",
      "[CV] END criterion=entropy, max_depth=9, max_features=sqrt, splitter=random; total time=   0.0s\n",
      "[CV] END criterion=entropy, max_depth=9, max_features=sqrt, splitter=random; total time=   0.0s\n",
      "[CV] END criterion=entropy, max_depth=9, max_features=sqrt, splitter=random; total time=   0.0s\n",
      "[CV] END criterion=entropy, max_depth=9, max_features=sqrt, splitter=random; total time=   0.0s\n",
      "[CV] END criterion=entropy, max_depth=9, max_features=sqrt, splitter=random; total time=   0.0s\n",
      "[CV] END criterion=entropy, max_depth=9, max_features=sqrt, splitter=random; total time=   0.0s\n",
      "[CV] END criterion=entropy, max_depth=9, max_features=log2, splitter=best; total time=   0.0s\n",
      "[CV] END criterion=entropy, max_depth=9, max_features=log2, splitter=best; total time=   0.0s\n",
      "[CV] END criterion=entropy, max_depth=9, max_features=log2, splitter=best; total time=   0.0s\n",
      "[CV] END criterion=entropy, max_depth=9, max_features=log2, splitter=best; total time=   0.0s\n",
      "[CV] END criterion=entropy, max_depth=9, max_features=log2, splitter=best; total time=   0.0s\n",
      "[CV] END criterion=entropy, max_depth=9, max_features=log2, splitter=best; total time=   0.0s\n",
      "[CV] END criterion=entropy, max_depth=9, max_features=log2, splitter=best; total time=   0.0s\n",
      "[CV] END criterion=entropy, max_depth=9, max_features=log2, splitter=best; total time=   0.0s\n",
      "[CV] END criterion=entropy, max_depth=9, max_features=log2, splitter=best; total time=   0.0s\n",
      "[CV] END criterion=entropy, max_depth=9, max_features=log2, splitter=best; total time=   0.0s\n",
      "[CV] END criterion=entropy, max_depth=9, max_features=log2, splitter=random; total time=   0.0s\n",
      "[CV] END criterion=entropy, max_depth=9, max_features=log2, splitter=random; total time=   0.0s\n",
      "[CV] END criterion=entropy, max_depth=9, max_features=log2, splitter=random; total time=   0.0s\n",
      "[CV] END criterion=entropy, max_depth=9, max_features=log2, splitter=random; total time=   0.0s\n",
      "[CV] END criterion=entropy, max_depth=9, max_features=log2, splitter=random; total time=   0.0s\n",
      "[CV] END criterion=entropy, max_depth=9, max_features=log2, splitter=random; total time=   0.0s\n",
      "[CV] END criterion=entropy, max_depth=9, max_features=log2, splitter=random; total time=   0.0s\n",
      "[CV] END criterion=entropy, max_depth=9, max_features=log2, splitter=random; total time=   0.0s\n",
      "[CV] END criterion=entropy, max_depth=9, max_features=log2, splitter=random; total time=   0.0s\n",
      "[CV] END criterion=entropy, max_depth=9, max_features=log2, splitter=random; total time=   0.0s\n",
      "[CV] END criterion=entropy, max_depth=13, max_features=None, splitter=best; total time=   0.5s\n",
      "[CV] END criterion=entropy, max_depth=13, max_features=None, splitter=best; total time=   0.6s\n",
      "[CV] END criterion=entropy, max_depth=13, max_features=None, splitter=best; total time=   0.5s\n",
      "[CV] END criterion=entropy, max_depth=13, max_features=None, splitter=best; total time=   0.6s\n",
      "[CV] END criterion=entropy, max_depth=13, max_features=None, splitter=best; total time=   0.6s\n",
      "[CV] END criterion=entropy, max_depth=13, max_features=None, splitter=best; total time=   0.5s\n",
      "[CV] END criterion=entropy, max_depth=13, max_features=None, splitter=best; total time=   0.5s\n",
      "[CV] END criterion=entropy, max_depth=13, max_features=None, splitter=best; total time=   1.0s\n",
      "[CV] END criterion=entropy, max_depth=13, max_features=None, splitter=best; total time=   0.6s\n",
      "[CV] END criterion=entropy, max_depth=13, max_features=None, splitter=best; total time=   0.6s\n",
      "[CV] END criterion=entropy, max_depth=13, max_features=None, splitter=random; total time=   0.0s\n",
      "[CV] END criterion=entropy, max_depth=13, max_features=None, splitter=random; total time=   0.0s\n",
      "[CV] END criterion=entropy, max_depth=13, max_features=None, splitter=random; total time=   0.0s\n",
      "[CV] END criterion=entropy, max_depth=13, max_features=None, splitter=random; total time=   0.0s\n",
      "[CV] END criterion=entropy, max_depth=13, max_features=None, splitter=random; total time=   0.0s\n",
      "[CV] END criterion=entropy, max_depth=13, max_features=None, splitter=random; total time=   0.0s\n",
      "[CV] END criterion=entropy, max_depth=13, max_features=None, splitter=random; total time=   0.0s\n",
      "[CV] END criterion=entropy, max_depth=13, max_features=None, splitter=random; total time=   0.0s\n",
      "[CV] END criterion=entropy, max_depth=13, max_features=None, splitter=random; total time=   0.0s\n",
      "[CV] END criterion=entropy, max_depth=13, max_features=None, splitter=random; total time=   0.0s\n",
      "[CV] END criterion=entropy, max_depth=13, max_features=sqrt, splitter=best; total time=   0.0s\n",
      "[CV] END criterion=entropy, max_depth=13, max_features=sqrt, splitter=best; total time=   0.0s\n",
      "[CV] END criterion=entropy, max_depth=13, max_features=sqrt, splitter=best; total time=   0.0s\n",
      "[CV] END criterion=entropy, max_depth=13, max_features=sqrt, splitter=best; total time=   0.0s\n",
      "[CV] END criterion=entropy, max_depth=13, max_features=sqrt, splitter=best; total time=   0.0s\n",
      "[CV] END criterion=entropy, max_depth=13, max_features=sqrt, splitter=best; total time=   0.0s\n",
      "[CV] END criterion=entropy, max_depth=13, max_features=sqrt, splitter=best; total time=   0.0s\n",
      "[CV] END criterion=entropy, max_depth=13, max_features=sqrt, splitter=best; total time=   0.0s\n",
      "[CV] END criterion=entropy, max_depth=13, max_features=sqrt, splitter=best; total time=   0.0s\n",
      "[CV] END criterion=entropy, max_depth=13, max_features=sqrt, splitter=best; total time=   0.0s\n",
      "[CV] END criterion=entropy, max_depth=13, max_features=sqrt, splitter=random; total time=   0.0s\n",
      "[CV] END criterion=entropy, max_depth=13, max_features=sqrt, splitter=random; total time=   0.0s\n",
      "[CV] END criterion=entropy, max_depth=13, max_features=sqrt, splitter=random; total time=   0.0s\n",
      "[CV] END criterion=entropy, max_depth=13, max_features=sqrt, splitter=random; total time=   0.0s\n",
      "[CV] END criterion=entropy, max_depth=13, max_features=sqrt, splitter=random; total time=   0.0s\n",
      "[CV] END criterion=entropy, max_depth=13, max_features=sqrt, splitter=random; total time=   0.0s\n",
      "[CV] END criterion=entropy, max_depth=13, max_features=sqrt, splitter=random; total time=   0.0s\n",
      "[CV] END criterion=entropy, max_depth=13, max_features=sqrt, splitter=random; total time=   0.0s\n",
      "[CV] END criterion=entropy, max_depth=13, max_features=sqrt, splitter=random; total time=   0.0s\n",
      "[CV] END criterion=entropy, max_depth=13, max_features=sqrt, splitter=random; total time=   0.0s\n",
      "[CV] END criterion=entropy, max_depth=13, max_features=log2, splitter=best; total time=   0.0s\n",
      "[CV] END criterion=entropy, max_depth=13, max_features=log2, splitter=best; total time=   0.0s\n",
      "[CV] END criterion=entropy, max_depth=13, max_features=log2, splitter=best; total time=   0.0s\n",
      "[CV] END criterion=entropy, max_depth=13, max_features=log2, splitter=best; total time=   0.0s\n",
      "[CV] END criterion=entropy, max_depth=13, max_features=log2, splitter=best; total time=   0.0s\n",
      "[CV] END criterion=entropy, max_depth=13, max_features=log2, splitter=best; total time=   0.0s\n",
      "[CV] END criterion=entropy, max_depth=13, max_features=log2, splitter=best; total time=   0.0s\n",
      "[CV] END criterion=entropy, max_depth=13, max_features=log2, splitter=best; total time=   0.0s\n",
      "[CV] END criterion=entropy, max_depth=13, max_features=log2, splitter=best; total time=   0.0s\n",
      "[CV] END criterion=entropy, max_depth=13, max_features=log2, splitter=best; total time=   0.0s\n",
      "[CV] END criterion=entropy, max_depth=13, max_features=log2, splitter=random; total time=   0.0s\n",
      "[CV] END criterion=entropy, max_depth=13, max_features=log2, splitter=random; total time=   0.0s\n",
      "[CV] END criterion=entropy, max_depth=13, max_features=log2, splitter=random; total time=   0.0s\n",
      "[CV] END criterion=entropy, max_depth=13, max_features=log2, splitter=random; total time=   0.0s\n",
      "[CV] END criterion=entropy, max_depth=13, max_features=log2, splitter=random; total time=   0.0s\n",
      "[CV] END criterion=entropy, max_depth=13, max_features=log2, splitter=random; total time=   0.0s\n",
      "[CV] END criterion=entropy, max_depth=13, max_features=log2, splitter=random; total time=   0.0s\n",
      "[CV] END criterion=entropy, max_depth=13, max_features=log2, splitter=random; total time=   0.0s\n",
      "[CV] END criterion=entropy, max_depth=13, max_features=log2, splitter=random; total time=   0.0s\n",
      "[CV] END criterion=entropy, max_depth=13, max_features=log2, splitter=random; total time=   0.0s\n",
      "[CV] END criterion=entropy, max_depth=15, max_features=None, splitter=best; total time=   0.6s\n",
      "[CV] END criterion=entropy, max_depth=15, max_features=None, splitter=best; total time=   0.6s\n",
      "[CV] END criterion=entropy, max_depth=15, max_features=None, splitter=best; total time=   0.6s\n",
      "[CV] END criterion=entropy, max_depth=15, max_features=None, splitter=best; total time=   0.6s\n",
      "[CV] END criterion=entropy, max_depth=15, max_features=None, splitter=best; total time=   0.6s\n",
      "[CV] END criterion=entropy, max_depth=15, max_features=None, splitter=best; total time=   0.6s\n",
      "[CV] END criterion=entropy, max_depth=15, max_features=None, splitter=best; total time=   0.6s\n",
      "[CV] END criterion=entropy, max_depth=15, max_features=None, splitter=best; total time=   0.6s\n",
      "[CV] END criterion=entropy, max_depth=15, max_features=None, splitter=best; total time=   0.6s\n",
      "[CV] END criterion=entropy, max_depth=15, max_features=None, splitter=best; total time=   0.6s\n",
      "[CV] END criterion=entropy, max_depth=15, max_features=None, splitter=random; total time=   0.0s\n",
      "[CV] END criterion=entropy, max_depth=15, max_features=None, splitter=random; total time=   0.0s\n",
      "[CV] END criterion=entropy, max_depth=15, max_features=None, splitter=random; total time=   0.0s\n",
      "[CV] END criterion=entropy, max_depth=15, max_features=None, splitter=random; total time=   0.0s\n",
      "[CV] END criterion=entropy, max_depth=15, max_features=None, splitter=random; total time=   0.0s\n",
      "[CV] END criterion=entropy, max_depth=15, max_features=None, splitter=random; total time=   0.0s\n",
      "[CV] END criterion=entropy, max_depth=15, max_features=None, splitter=random; total time=   0.0s\n",
      "[CV] END criterion=entropy, max_depth=15, max_features=None, splitter=random; total time=   0.0s\n",
      "[CV] END criterion=entropy, max_depth=15, max_features=None, splitter=random; total time=   0.0s\n",
      "[CV] END criterion=entropy, max_depth=15, max_features=None, splitter=random; total time=   0.0s\n",
      "[CV] END criterion=entropy, max_depth=15, max_features=sqrt, splitter=best; total time=   0.0s\n",
      "[CV] END criterion=entropy, max_depth=15, max_features=sqrt, splitter=best; total time=   0.0s\n",
      "[CV] END criterion=entropy, max_depth=15, max_features=sqrt, splitter=best; total time=   0.0s\n",
      "[CV] END criterion=entropy, max_depth=15, max_features=sqrt, splitter=best; total time=   0.0s\n",
      "[CV] END criterion=entropy, max_depth=15, max_features=sqrt, splitter=best; total time=   0.0s\n",
      "[CV] END criterion=entropy, max_depth=15, max_features=sqrt, splitter=best; total time=   0.0s\n",
      "[CV] END criterion=entropy, max_depth=15, max_features=sqrt, splitter=best; total time=   0.0s\n",
      "[CV] END criterion=entropy, max_depth=15, max_features=sqrt, splitter=best; total time=   0.0s\n",
      "[CV] END criterion=entropy, max_depth=15, max_features=sqrt, splitter=best; total time=   0.0s\n",
      "[CV] END criterion=entropy, max_depth=15, max_features=sqrt, splitter=best; total time=   0.0s\n",
      "[CV] END criterion=entropy, max_depth=15, max_features=sqrt, splitter=random; total time=   0.0s\n",
      "[CV] END criterion=entropy, max_depth=15, max_features=sqrt, splitter=random; total time=   0.0s\n",
      "[CV] END criterion=entropy, max_depth=15, max_features=sqrt, splitter=random; total time=   0.0s\n",
      "[CV] END criterion=entropy, max_depth=15, max_features=sqrt, splitter=random; total time=   0.0s\n",
      "[CV] END criterion=entropy, max_depth=15, max_features=sqrt, splitter=random; total time=   0.0s\n",
      "[CV] END criterion=entropy, max_depth=15, max_features=sqrt, splitter=random; total time=   0.0s\n",
      "[CV] END criterion=entropy, max_depth=15, max_features=sqrt, splitter=random; total time=   0.0s\n",
      "[CV] END criterion=entropy, max_depth=15, max_features=sqrt, splitter=random; total time=   0.0s\n",
      "[CV] END criterion=entropy, max_depth=15, max_features=sqrt, splitter=random; total time=   0.0s\n",
      "[CV] END criterion=entropy, max_depth=15, max_features=sqrt, splitter=random; total time=   0.0s\n",
      "[CV] END criterion=entropy, max_depth=15, max_features=log2, splitter=best; total time=   0.0s\n",
      "[CV] END criterion=entropy, max_depth=15, max_features=log2, splitter=best; total time=   0.0s\n",
      "[CV] END criterion=entropy, max_depth=15, max_features=log2, splitter=best; total time=   0.0s\n",
      "[CV] END criterion=entropy, max_depth=15, max_features=log2, splitter=best; total time=   0.0s\n",
      "[CV] END criterion=entropy, max_depth=15, max_features=log2, splitter=best; total time=   0.0s\n",
      "[CV] END criterion=entropy, max_depth=15, max_features=log2, splitter=best; total time=   0.0s\n",
      "[CV] END criterion=entropy, max_depth=15, max_features=log2, splitter=best; total time=   0.0s\n",
      "[CV] END criterion=entropy, max_depth=15, max_features=log2, splitter=best; total time=   0.0s\n",
      "[CV] END criterion=entropy, max_depth=15, max_features=log2, splitter=best; total time=   0.0s\n",
      "[CV] END criterion=entropy, max_depth=15, max_features=log2, splitter=best; total time=   0.0s\n",
      "[CV] END criterion=entropy, max_depth=15, max_features=log2, splitter=random; total time=   0.0s\n",
      "[CV] END criterion=entropy, max_depth=15, max_features=log2, splitter=random; total time=   0.0s\n",
      "[CV] END criterion=entropy, max_depth=15, max_features=log2, splitter=random; total time=   0.0s\n",
      "[CV] END criterion=entropy, max_depth=15, max_features=log2, splitter=random; total time=   0.0s\n",
      "[CV] END criterion=entropy, max_depth=15, max_features=log2, splitter=random; total time=   0.0s\n",
      "[CV] END criterion=entropy, max_depth=15, max_features=log2, splitter=random; total time=   0.0s\n",
      "[CV] END criterion=entropy, max_depth=15, max_features=log2, splitter=random; total time=   0.0s\n",
      "[CV] END criterion=entropy, max_depth=15, max_features=log2, splitter=random; total time=   0.0s\n",
      "[CV] END criterion=entropy, max_depth=15, max_features=log2, splitter=random; total time=   0.0s\n",
      "[CV] END criterion=entropy, max_depth=15, max_features=log2, splitter=random; total time=   0.0s\n",
      "[CV] END criterion=log_loss, max_depth=9, max_features=None, splitter=best; total time=   0.4s\n",
      "[CV] END criterion=log_loss, max_depth=9, max_features=None, splitter=best; total time=   0.4s\n",
      "[CV] END criterion=log_loss, max_depth=9, max_features=None, splitter=best; total time=   0.4s\n",
      "[CV] END criterion=log_loss, max_depth=9, max_features=None, splitter=best; total time=   0.4s\n",
      "[CV] END criterion=log_loss, max_depth=9, max_features=None, splitter=best; total time=   0.4s\n",
      "[CV] END criterion=log_loss, max_depth=9, max_features=None, splitter=best; total time=   0.4s\n",
      "[CV] END criterion=log_loss, max_depth=9, max_features=None, splitter=best; total time=   0.4s\n",
      "[CV] END criterion=log_loss, max_depth=9, max_features=None, splitter=best; total time=   0.4s\n",
      "[CV] END criterion=log_loss, max_depth=9, max_features=None, splitter=best; total time=   0.4s\n",
      "[CV] END criterion=log_loss, max_depth=9, max_features=None, splitter=best; total time=   0.4s\n",
      "[CV] END criterion=log_loss, max_depth=9, max_features=None, splitter=random; total time=   0.0s\n",
      "[CV] END criterion=log_loss, max_depth=9, max_features=None, splitter=random; total time=   0.0s\n",
      "[CV] END criterion=log_loss, max_depth=9, max_features=None, splitter=random; total time=   0.0s\n",
      "[CV] END criterion=log_loss, max_depth=9, max_features=None, splitter=random; total time=   0.0s\n",
      "[CV] END criterion=log_loss, max_depth=9, max_features=None, splitter=random; total time=   0.0s\n",
      "[CV] END criterion=log_loss, max_depth=9, max_features=None, splitter=random; total time=   0.0s\n",
      "[CV] END criterion=log_loss, max_depth=9, max_features=None, splitter=random; total time=   0.0s\n",
      "[CV] END criterion=log_loss, max_depth=9, max_features=None, splitter=random; total time=   0.0s\n",
      "[CV] END criterion=log_loss, max_depth=9, max_features=None, splitter=random; total time=   0.0s\n",
      "[CV] END criterion=log_loss, max_depth=9, max_features=None, splitter=random; total time=   0.0s\n",
      "[CV] END criterion=log_loss, max_depth=9, max_features=sqrt, splitter=best; total time=   0.0s\n",
      "[CV] END criterion=log_loss, max_depth=9, max_features=sqrt, splitter=best; total time=   0.0s\n",
      "[CV] END criterion=log_loss, max_depth=9, max_features=sqrt, splitter=best; total time=   0.0s\n",
      "[CV] END criterion=log_loss, max_depth=9, max_features=sqrt, splitter=best; total time=   0.0s\n",
      "[CV] END criterion=log_loss, max_depth=9, max_features=sqrt, splitter=best; total time=   0.0s\n",
      "[CV] END criterion=log_loss, max_depth=9, max_features=sqrt, splitter=best; total time=   0.0s\n",
      "[CV] END criterion=log_loss, max_depth=9, max_features=sqrt, splitter=best; total time=   0.0s\n",
      "[CV] END criterion=log_loss, max_depth=9, max_features=sqrt, splitter=best; total time=   0.0s\n",
      "[CV] END criterion=log_loss, max_depth=9, max_features=sqrt, splitter=best; total time=   0.0s\n",
      "[CV] END criterion=log_loss, max_depth=9, max_features=sqrt, splitter=best; total time=   0.0s\n",
      "[CV] END criterion=log_loss, max_depth=9, max_features=sqrt, splitter=random; total time=   0.0s\n",
      "[CV] END criterion=log_loss, max_depth=9, max_features=sqrt, splitter=random; total time=   0.0s\n",
      "[CV] END criterion=log_loss, max_depth=9, max_features=sqrt, splitter=random; total time=   0.0s\n",
      "[CV] END criterion=log_loss, max_depth=9, max_features=sqrt, splitter=random; total time=   0.0s\n",
      "[CV] END criterion=log_loss, max_depth=9, max_features=sqrt, splitter=random; total time=   0.0s\n",
      "[CV] END criterion=log_loss, max_depth=9, max_features=sqrt, splitter=random; total time=   0.0s\n",
      "[CV] END criterion=log_loss, max_depth=9, max_features=sqrt, splitter=random; total time=   0.0s\n",
      "[CV] END criterion=log_loss, max_depth=9, max_features=sqrt, splitter=random; total time=   0.0s\n",
      "[CV] END criterion=log_loss, max_depth=9, max_features=sqrt, splitter=random; total time=   0.0s\n",
      "[CV] END criterion=log_loss, max_depth=9, max_features=sqrt, splitter=random; total time=   0.0s\n",
      "[CV] END criterion=log_loss, max_depth=9, max_features=log2, splitter=best; total time=   0.0s\n",
      "[CV] END criterion=log_loss, max_depth=9, max_features=log2, splitter=best; total time=   0.0s\n",
      "[CV] END criterion=log_loss, max_depth=9, max_features=log2, splitter=best; total time=   0.0s\n",
      "[CV] END criterion=log_loss, max_depth=9, max_features=log2, splitter=best; total time=   0.0s\n",
      "[CV] END criterion=log_loss, max_depth=9, max_features=log2, splitter=best; total time=   0.0s\n",
      "[CV] END criterion=log_loss, max_depth=9, max_features=log2, splitter=best; total time=   0.0s\n",
      "[CV] END criterion=log_loss, max_depth=9, max_features=log2, splitter=best; total time=   0.0s\n",
      "[CV] END criterion=log_loss, max_depth=9, max_features=log2, splitter=best; total time=   0.0s\n",
      "[CV] END criterion=log_loss, max_depth=9, max_features=log2, splitter=best; total time=   0.0s\n",
      "[CV] END criterion=log_loss, max_depth=9, max_features=log2, splitter=best; total time=   0.0s\n",
      "[CV] END criterion=log_loss, max_depth=9, max_features=log2, splitter=random; total time=   0.0s\n",
      "[CV] END criterion=log_loss, max_depth=9, max_features=log2, splitter=random; total time=   0.0s\n",
      "[CV] END criterion=log_loss, max_depth=9, max_features=log2, splitter=random; total time=   0.0s\n",
      "[CV] END criterion=log_loss, max_depth=9, max_features=log2, splitter=random; total time=   0.0s\n",
      "[CV] END criterion=log_loss, max_depth=9, max_features=log2, splitter=random; total time=   0.0s\n",
      "[CV] END criterion=log_loss, max_depth=9, max_features=log2, splitter=random; total time=   0.0s\n",
      "[CV] END criterion=log_loss, max_depth=9, max_features=log2, splitter=random; total time=   0.0s\n",
      "[CV] END criterion=log_loss, max_depth=9, max_features=log2, splitter=random; total time=   0.0s\n",
      "[CV] END criterion=log_loss, max_depth=9, max_features=log2, splitter=random; total time=   0.0s\n",
      "[CV] END criterion=log_loss, max_depth=9, max_features=log2, splitter=random; total time=   0.0s\n",
      "[CV] END criterion=log_loss, max_depth=13, max_features=None, splitter=best; total time=   0.5s\n",
      "[CV] END criterion=log_loss, max_depth=13, max_features=None, splitter=best; total time=   0.5s\n",
      "[CV] END criterion=log_loss, max_depth=13, max_features=None, splitter=best; total time=   0.5s\n",
      "[CV] END criterion=log_loss, max_depth=13, max_features=None, splitter=best; total time=   0.6s\n",
      "[CV] END criterion=log_loss, max_depth=13, max_features=None, splitter=best; total time=   0.5s\n",
      "[CV] END criterion=log_loss, max_depth=13, max_features=None, splitter=best; total time=   0.5s\n",
      "[CV] END criterion=log_loss, max_depth=13, max_features=None, splitter=best; total time=   0.5s\n",
      "[CV] END criterion=log_loss, max_depth=13, max_features=None, splitter=best; total time=   0.6s\n",
      "[CV] END criterion=log_loss, max_depth=13, max_features=None, splitter=best; total time=   0.5s\n",
      "[CV] END criterion=log_loss, max_depth=13, max_features=None, splitter=best; total time=   0.5s\n",
      "[CV] END criterion=log_loss, max_depth=13, max_features=None, splitter=random; total time=   0.0s\n",
      "[CV] END criterion=log_loss, max_depth=13, max_features=None, splitter=random; total time=   0.0s\n",
      "[CV] END criterion=log_loss, max_depth=13, max_features=None, splitter=random; total time=   0.0s\n",
      "[CV] END criterion=log_loss, max_depth=13, max_features=None, splitter=random; total time=   0.0s\n",
      "[CV] END criterion=log_loss, max_depth=13, max_features=None, splitter=random; total time=   0.0s\n",
      "[CV] END criterion=log_loss, max_depth=13, max_features=None, splitter=random; total time=   0.0s\n",
      "[CV] END criterion=log_loss, max_depth=13, max_features=None, splitter=random; total time=   0.0s\n",
      "[CV] END criterion=log_loss, max_depth=13, max_features=None, splitter=random; total time=   0.0s\n",
      "[CV] END criterion=log_loss, max_depth=13, max_features=None, splitter=random; total time=   0.0s\n",
      "[CV] END criterion=log_loss, max_depth=13, max_features=None, splitter=random; total time=   0.0s\n",
      "[CV] END criterion=log_loss, max_depth=13, max_features=sqrt, splitter=best; total time=   0.0s\n",
      "[CV] END criterion=log_loss, max_depth=13, max_features=sqrt, splitter=best; total time=   0.0s\n",
      "[CV] END criterion=log_loss, max_depth=13, max_features=sqrt, splitter=best; total time=   0.0s\n",
      "[CV] END criterion=log_loss, max_depth=13, max_features=sqrt, splitter=best; total time=   0.0s\n",
      "[CV] END criterion=log_loss, max_depth=13, max_features=sqrt, splitter=best; total time=   0.0s\n",
      "[CV] END criterion=log_loss, max_depth=13, max_features=sqrt, splitter=best; total time=   0.0s\n",
      "[CV] END criterion=log_loss, max_depth=13, max_features=sqrt, splitter=best; total time=   0.0s\n",
      "[CV] END criterion=log_loss, max_depth=13, max_features=sqrt, splitter=best; total time=   0.0s\n",
      "[CV] END criterion=log_loss, max_depth=13, max_features=sqrt, splitter=best; total time=   0.0s\n",
      "[CV] END criterion=log_loss, max_depth=13, max_features=sqrt, splitter=best; total time=   0.0s\n",
      "[CV] END criterion=log_loss, max_depth=13, max_features=sqrt, splitter=random; total time=   0.0s\n",
      "[CV] END criterion=log_loss, max_depth=13, max_features=sqrt, splitter=random; total time=   0.0s\n",
      "[CV] END criterion=log_loss, max_depth=13, max_features=sqrt, splitter=random; total time=   0.0s\n",
      "[CV] END criterion=log_loss, max_depth=13, max_features=sqrt, splitter=random; total time=   0.0s\n",
      "[CV] END criterion=log_loss, max_depth=13, max_features=sqrt, splitter=random; total time=   0.0s\n",
      "[CV] END criterion=log_loss, max_depth=13, max_features=sqrt, splitter=random; total time=   0.0s\n",
      "[CV] END criterion=log_loss, max_depth=13, max_features=sqrt, splitter=random; total time=   0.0s\n",
      "[CV] END criterion=log_loss, max_depth=13, max_features=sqrt, splitter=random; total time=   0.0s\n",
      "[CV] END criterion=log_loss, max_depth=13, max_features=sqrt, splitter=random; total time=   0.0s\n",
      "[CV] END criterion=log_loss, max_depth=13, max_features=sqrt, splitter=random; total time=   0.0s\n",
      "[CV] END criterion=log_loss, max_depth=13, max_features=log2, splitter=best; total time=   0.0s\n",
      "[CV] END criterion=log_loss, max_depth=13, max_features=log2, splitter=best; total time=   0.0s\n",
      "[CV] END criterion=log_loss, max_depth=13, max_features=log2, splitter=best; total time=   0.0s\n",
      "[CV] END criterion=log_loss, max_depth=13, max_features=log2, splitter=best; total time=   0.0s\n",
      "[CV] END criterion=log_loss, max_depth=13, max_features=log2, splitter=best; total time=   0.0s\n",
      "[CV] END criterion=log_loss, max_depth=13, max_features=log2, splitter=best; total time=   0.0s\n",
      "[CV] END criterion=log_loss, max_depth=13, max_features=log2, splitter=best; total time=   0.0s\n",
      "[CV] END criterion=log_loss, max_depth=13, max_features=log2, splitter=best; total time=   0.0s\n",
      "[CV] END criterion=log_loss, max_depth=13, max_features=log2, splitter=best; total time=   0.0s\n",
      "[CV] END criterion=log_loss, max_depth=13, max_features=log2, splitter=best; total time=   0.0s\n",
      "[CV] END criterion=log_loss, max_depth=13, max_features=log2, splitter=random; total time=   0.0s\n",
      "[CV] END criterion=log_loss, max_depth=13, max_features=log2, splitter=random; total time=   0.0s\n",
      "[CV] END criterion=log_loss, max_depth=13, max_features=log2, splitter=random; total time=   0.0s\n",
      "[CV] END criterion=log_loss, max_depth=13, max_features=log2, splitter=random; total time=   0.0s\n",
      "[CV] END criterion=log_loss, max_depth=13, max_features=log2, splitter=random; total time=   0.0s\n",
      "[CV] END criterion=log_loss, max_depth=13, max_features=log2, splitter=random; total time=   0.0s\n",
      "[CV] END criterion=log_loss, max_depth=13, max_features=log2, splitter=random; total time=   0.0s\n",
      "[CV] END criterion=log_loss, max_depth=13, max_features=log2, splitter=random; total time=   0.0s\n",
      "[CV] END criterion=log_loss, max_depth=13, max_features=log2, splitter=random; total time=   0.0s\n",
      "[CV] END criterion=log_loss, max_depth=13, max_features=log2, splitter=random; total time=   0.0s\n",
      "[CV] END criterion=log_loss, max_depth=15, max_features=None, splitter=best; total time=   0.6s\n",
      "[CV] END criterion=log_loss, max_depth=15, max_features=None, splitter=best; total time=   0.6s\n",
      "[CV] END criterion=log_loss, max_depth=15, max_features=None, splitter=best; total time=   0.6s\n",
      "[CV] END criterion=log_loss, max_depth=15, max_features=None, splitter=best; total time=   0.6s\n",
      "[CV] END criterion=log_loss, max_depth=15, max_features=None, splitter=best; total time=   0.6s\n",
      "[CV] END criterion=log_loss, max_depth=15, max_features=None, splitter=best; total time=   0.6s\n",
      "[CV] END criterion=log_loss, max_depth=15, max_features=None, splitter=best; total time=   0.6s\n",
      "[CV] END criterion=log_loss, max_depth=15, max_features=None, splitter=best; total time=   0.6s\n",
      "[CV] END criterion=log_loss, max_depth=15, max_features=None, splitter=best; total time=   0.6s\n",
      "[CV] END criterion=log_loss, max_depth=15, max_features=None, splitter=best; total time=   0.6s\n",
      "[CV] END criterion=log_loss, max_depth=15, max_features=None, splitter=random; total time=   0.0s\n",
      "[CV] END criterion=log_loss, max_depth=15, max_features=None, splitter=random; total time=   0.0s\n",
      "[CV] END criterion=log_loss, max_depth=15, max_features=None, splitter=random; total time=   0.0s\n",
      "[CV] END criterion=log_loss, max_depth=15, max_features=None, splitter=random; total time=   0.0s\n",
      "[CV] END criterion=log_loss, max_depth=15, max_features=None, splitter=random; total time=   0.0s\n",
      "[CV] END criterion=log_loss, max_depth=15, max_features=None, splitter=random; total time=   0.0s\n",
      "[CV] END criterion=log_loss, max_depth=15, max_features=None, splitter=random; total time=   0.0s\n",
      "[CV] END criterion=log_loss, max_depth=15, max_features=None, splitter=random; total time=   0.0s\n",
      "[CV] END criterion=log_loss, max_depth=15, max_features=None, splitter=random; total time=   0.0s\n",
      "[CV] END criterion=log_loss, max_depth=15, max_features=None, splitter=random; total time=   0.0s\n",
      "[CV] END criterion=log_loss, max_depth=15, max_features=sqrt, splitter=best; total time=   0.0s\n",
      "[CV] END criterion=log_loss, max_depth=15, max_features=sqrt, splitter=best; total time=   0.0s\n",
      "[CV] END criterion=log_loss, max_depth=15, max_features=sqrt, splitter=best; total time=   0.0s\n",
      "[CV] END criterion=log_loss, max_depth=15, max_features=sqrt, splitter=best; total time=   0.0s\n",
      "[CV] END criterion=log_loss, max_depth=15, max_features=sqrt, splitter=best; total time=   0.0s\n",
      "[CV] END criterion=log_loss, max_depth=15, max_features=sqrt, splitter=best; total time=   0.0s\n",
      "[CV] END criterion=log_loss, max_depth=15, max_features=sqrt, splitter=best; total time=   0.0s\n",
      "[CV] END criterion=log_loss, max_depth=15, max_features=sqrt, splitter=best; total time=   0.0s\n",
      "[CV] END criterion=log_loss, max_depth=15, max_features=sqrt, splitter=best; total time=   0.0s\n",
      "[CV] END criterion=log_loss, max_depth=15, max_features=sqrt, splitter=best; total time=   0.0s\n",
      "[CV] END criterion=log_loss, max_depth=15, max_features=sqrt, splitter=random; total time=   0.0s\n",
      "[CV] END criterion=log_loss, max_depth=15, max_features=sqrt, splitter=random; total time=   0.0s\n",
      "[CV] END criterion=log_loss, max_depth=15, max_features=sqrt, splitter=random; total time=   0.0s\n",
      "[CV] END criterion=log_loss, max_depth=15, max_features=sqrt, splitter=random; total time=   0.0s\n",
      "[CV] END criterion=log_loss, max_depth=15, max_features=sqrt, splitter=random; total time=   0.0s\n",
      "[CV] END criterion=log_loss, max_depth=15, max_features=sqrt, splitter=random; total time=   0.0s\n",
      "[CV] END criterion=log_loss, max_depth=15, max_features=sqrt, splitter=random; total time=   0.0s\n",
      "[CV] END criterion=log_loss, max_depth=15, max_features=sqrt, splitter=random; total time=   0.0s\n",
      "[CV] END criterion=log_loss, max_depth=15, max_features=sqrt, splitter=random; total time=   0.0s\n",
      "[CV] END criterion=log_loss, max_depth=15, max_features=sqrt, splitter=random; total time=   0.0s\n",
      "[CV] END criterion=log_loss, max_depth=15, max_features=log2, splitter=best; total time=   0.0s\n",
      "[CV] END criterion=log_loss, max_depth=15, max_features=log2, splitter=best; total time=   0.0s\n",
      "[CV] END criterion=log_loss, max_depth=15, max_features=log2, splitter=best; total time=   0.0s\n",
      "[CV] END criterion=log_loss, max_depth=15, max_features=log2, splitter=best; total time=   0.0s\n",
      "[CV] END criterion=log_loss, max_depth=15, max_features=log2, splitter=best; total time=   0.0s\n",
      "[CV] END criterion=log_loss, max_depth=15, max_features=log2, splitter=best; total time=   0.0s\n",
      "[CV] END criterion=log_loss, max_depth=15, max_features=log2, splitter=best; total time=   0.0s\n",
      "[CV] END criterion=log_loss, max_depth=15, max_features=log2, splitter=best; total time=   0.0s\n",
      "[CV] END criterion=log_loss, max_depth=15, max_features=log2, splitter=best; total time=   0.0s\n",
      "[CV] END criterion=log_loss, max_depth=15, max_features=log2, splitter=best; total time=   0.0s\n",
      "[CV] END criterion=log_loss, max_depth=15, max_features=log2, splitter=random; total time=   0.0s\n",
      "[CV] END criterion=log_loss, max_depth=15, max_features=log2, splitter=random; total time=   0.0s\n",
      "[CV] END criterion=log_loss, max_depth=15, max_features=log2, splitter=random; total time=   0.0s\n",
      "[CV] END criterion=log_loss, max_depth=15, max_features=log2, splitter=random; total time=   0.0s\n",
      "[CV] END criterion=log_loss, max_depth=15, max_features=log2, splitter=random; total time=   0.0s\n",
      "[CV] END criterion=log_loss, max_depth=15, max_features=log2, splitter=random; total time=   0.0s\n",
      "[CV] END criterion=log_loss, max_depth=15, max_features=log2, splitter=random; total time=   0.0s\n",
      "[CV] END criterion=log_loss, max_depth=15, max_features=log2, splitter=random; total time=   0.0s\n",
      "[CV] END criterion=log_loss, max_depth=15, max_features=log2, splitter=random; total time=   0.0s\n",
      "[CV] END criterion=log_loss, max_depth=15, max_features=log2, splitter=random; total time=   0.0s\n"
     ]
    },
    {
     "data": {
      "text/html": [
       "<style>#sk-container-id-11 {color: black;background-color: white;}#sk-container-id-11 pre{padding: 0;}#sk-container-id-11 div.sk-toggleable {background-color: white;}#sk-container-id-11 label.sk-toggleable__label {cursor: pointer;display: block;width: 100%;margin-bottom: 0;padding: 0.3em;box-sizing: border-box;text-align: center;}#sk-container-id-11 label.sk-toggleable__label-arrow:before {content: \"▸\";float: left;margin-right: 0.25em;color: #696969;}#sk-container-id-11 label.sk-toggleable__label-arrow:hover:before {color: black;}#sk-container-id-11 div.sk-estimator:hover label.sk-toggleable__label-arrow:before {color: black;}#sk-container-id-11 div.sk-toggleable__content {max-height: 0;max-width: 0;overflow: hidden;text-align: left;background-color: #f0f8ff;}#sk-container-id-11 div.sk-toggleable__content pre {margin: 0.2em;color: black;border-radius: 0.25em;background-color: #f0f8ff;}#sk-container-id-11 input.sk-toggleable__control:checked~div.sk-toggleable__content {max-height: 200px;max-width: 100%;overflow: auto;}#sk-container-id-11 input.sk-toggleable__control:checked~label.sk-toggleable__label-arrow:before {content: \"▾\";}#sk-container-id-11 div.sk-estimator input.sk-toggleable__control:checked~label.sk-toggleable__label {background-color: #d4ebff;}#sk-container-id-11 div.sk-label input.sk-toggleable__control:checked~label.sk-toggleable__label {background-color: #d4ebff;}#sk-container-id-11 input.sk-hidden--visually {border: 0;clip: rect(1px 1px 1px 1px);clip: rect(1px, 1px, 1px, 1px);height: 1px;margin: -1px;overflow: hidden;padding: 0;position: absolute;width: 1px;}#sk-container-id-11 div.sk-estimator {font-family: monospace;background-color: #f0f8ff;border: 1px dotted black;border-radius: 0.25em;box-sizing: border-box;margin-bottom: 0.5em;}#sk-container-id-11 div.sk-estimator:hover {background-color: #d4ebff;}#sk-container-id-11 div.sk-parallel-item::after {content: \"\";width: 100%;border-bottom: 1px solid gray;flex-grow: 1;}#sk-container-id-11 div.sk-label:hover label.sk-toggleable__label {background-color: #d4ebff;}#sk-container-id-11 div.sk-serial::before {content: \"\";position: absolute;border-left: 1px solid gray;box-sizing: border-box;top: 0;bottom: 0;left: 50%;z-index: 0;}#sk-container-id-11 div.sk-serial {display: flex;flex-direction: column;align-items: center;background-color: white;padding-right: 0.2em;padding-left: 0.2em;position: relative;}#sk-container-id-11 div.sk-item {position: relative;z-index: 1;}#sk-container-id-11 div.sk-parallel {display: flex;align-items: stretch;justify-content: center;background-color: white;position: relative;}#sk-container-id-11 div.sk-item::before, #sk-container-id-11 div.sk-parallel-item::before {content: \"\";position: absolute;border-left: 1px solid gray;box-sizing: border-box;top: 0;bottom: 0;left: 50%;z-index: -1;}#sk-container-id-11 div.sk-parallel-item {display: flex;flex-direction: column;z-index: 1;position: relative;background-color: white;}#sk-container-id-11 div.sk-parallel-item:first-child::after {align-self: flex-end;width: 50%;}#sk-container-id-11 div.sk-parallel-item:last-child::after {align-self: flex-start;width: 50%;}#sk-container-id-11 div.sk-parallel-item:only-child::after {width: 0;}#sk-container-id-11 div.sk-dashed-wrapped {border: 1px dashed gray;margin: 0 0.4em 0.5em 0.4em;box-sizing: border-box;padding-bottom: 0.4em;background-color: white;}#sk-container-id-11 div.sk-label label {font-family: monospace;font-weight: bold;display: inline-block;line-height: 1.2em;}#sk-container-id-11 div.sk-label-container {text-align: center;}#sk-container-id-11 div.sk-container {/* jupyter's `normalize.less` sets `[hidden] { display: none; }` but bootstrap.min.css set `[hidden] { display: none !important; }` so we also need the `!important` here to be able to override the default hidden behavior on the sphinx rendered scikit-learn.org. See: https://github.com/scikit-learn/scikit-learn/issues/21755 */display: inline-block !important;position: relative;}#sk-container-id-11 div.sk-text-repr-fallback {display: none;}</style><div id=\"sk-container-id-11\" class=\"sk-top-container\"><div class=\"sk-text-repr-fallback\"><pre>GridSearchCV(cv=10, estimator=DecisionTreeClassifier(),\n",
       "             param_grid=[{&#x27;criterion&#x27;: [&#x27;gini&#x27;, &#x27;entropy&#x27;, &#x27;log_loss&#x27;],\n",
       "                          &#x27;max_depth&#x27;: [9, 13, 15],\n",
       "                          &#x27;max_features&#x27;: [None, &#x27;sqrt&#x27;, &#x27;log2&#x27;],\n",
       "                          &#x27;splitter&#x27;: [&#x27;best&#x27;, &#x27;random&#x27;]}],\n",
       "             scoring=&#x27;f1&#x27;, verbose=2)</pre><b>In a Jupyter environment, please rerun this cell to show the HTML representation or trust the notebook. <br />On GitHub, the HTML representation is unable to render, please try loading this page with nbviewer.org.</b></div><div class=\"sk-container\" hidden><div class=\"sk-item sk-dashed-wrapped\"><div class=\"sk-label-container\"><div class=\"sk-label sk-toggleable\"><input class=\"sk-toggleable__control sk-hidden--visually\" id=\"sk-estimator-id-29\" type=\"checkbox\" ><label for=\"sk-estimator-id-29\" class=\"sk-toggleable__label sk-toggleable__label-arrow\">GridSearchCV</label><div class=\"sk-toggleable__content\"><pre>GridSearchCV(cv=10, estimator=DecisionTreeClassifier(),\n",
       "             param_grid=[{&#x27;criterion&#x27;: [&#x27;gini&#x27;, &#x27;entropy&#x27;, &#x27;log_loss&#x27;],\n",
       "                          &#x27;max_depth&#x27;: [9, 13, 15],\n",
       "                          &#x27;max_features&#x27;: [None, &#x27;sqrt&#x27;, &#x27;log2&#x27;],\n",
       "                          &#x27;splitter&#x27;: [&#x27;best&#x27;, &#x27;random&#x27;]}],\n",
       "             scoring=&#x27;f1&#x27;, verbose=2)</pre></div></div></div><div class=\"sk-parallel\"><div class=\"sk-parallel-item\"><div class=\"sk-item\"><div class=\"sk-label-container\"><div class=\"sk-label sk-toggleable\"><input class=\"sk-toggleable__control sk-hidden--visually\" id=\"sk-estimator-id-30\" type=\"checkbox\" ><label for=\"sk-estimator-id-30\" class=\"sk-toggleable__label sk-toggleable__label-arrow\">estimator: DecisionTreeClassifier</label><div class=\"sk-toggleable__content\"><pre>DecisionTreeClassifier()</pre></div></div></div><div class=\"sk-serial\"><div class=\"sk-item\"><div class=\"sk-estimator sk-toggleable\"><input class=\"sk-toggleable__control sk-hidden--visually\" id=\"sk-estimator-id-31\" type=\"checkbox\" ><label for=\"sk-estimator-id-31\" class=\"sk-toggleable__label sk-toggleable__label-arrow\">DecisionTreeClassifier</label><div class=\"sk-toggleable__content\"><pre>DecisionTreeClassifier()</pre></div></div></div></div></div></div></div></div></div></div>"
      ],
      "text/plain": [
       "GridSearchCV(cv=10, estimator=DecisionTreeClassifier(),\n",
       "             param_grid=[{'criterion': ['gini', 'entropy', 'log_loss'],\n",
       "                          'max_depth': [9, 13, 15],\n",
       "                          'max_features': [None, 'sqrt', 'log2'],\n",
       "                          'splitter': ['best', 'random']}],\n",
       "             scoring='f1', verbose=2)"
      ]
     },
     "execution_count": 217,
     "metadata": {},
     "output_type": "execute_result"
    }
   ],
   "source": [
    "classifier= DecisionTreeClassifier()  \n",
    "parameters = [{\"splitter\" : [\"best\", \"random\"],\n",
    "              'criterion' :[\"gini\", \"entropy\", \"log_loss\"],\n",
    "              \"max_features\": [None, \"sqrt\", \"log2\"],\n",
    "              \"max_depth\" : [9, 13, 15]}]\n",
    "grid_search_dec_tree = GridSearchCV(verbose=2, estimator=classifier, param_grid=parameters, cv= 10,\n",
    "                               scoring=\"f1\")\n",
    "grid_search_dec_tree.fit(X_train, y_train)"
   ]
  },
  {
   "cell_type": "code",
   "execution_count": 332,
   "id": "40601fb8",
   "metadata": {
    "scrolled": true
   },
   "outputs": [
    {
     "name": "stdout",
     "output_type": "stream",
     "text": [
      "Best F1 Score: 73.70 %\n",
      "Best Parameters: {'criterion': 'gini', 'max_depth': 15, 'max_features': None, 'splitter': 'best'}\n"
     ]
    }
   ],
   "source": [
    "best_accuracy = grid_search_dec_tree.best_score_\n",
    "best_parameters = grid_search_dec_tree.best_params_\n",
    "print(\"Best F1 Score: {:.2f} %\".format(best_accuracy*100))\n",
    "print(\"Best Parameters:\", best_parameters)"
   ]
  },
  {
   "cell_type": "code",
   "execution_count": 333,
   "id": "ddef053c",
   "metadata": {},
   "outputs": [],
   "source": [
    "dec_tree = DecisionTreeClassifier(criterion= 'log_loss', max_depth= 13, max_features= None, splitter = 'random')\n",
    "dec_tree.fit(X_train, y_train)\n",
    "\n",
    "#Predicting the test set result  \n",
    "y_pred = dec_tree.predict(X_test)\n",
    "#Creating the Confusion matrix  \n",
    "from sklearn.metrics import confusion_matrix,accuracy_score,f1_score,classification_report\n",
    "\n",
    "cm = confusion_matrix(y_test, y_pred)  "
   ]
  },
  {
   "cell_type": "code",
   "execution_count": 334,
   "id": "c7e5b400",
   "metadata": {
    "scrolled": false
   },
   "outputs": [
    {
     "name": "stdout",
     "output_type": "stream",
     "text": [
      "Confusion Matrix : \n",
      " [[3437 1208]\n",
      " [1483 3332]]\n",
      "r2 score : \n",
      "\t 0.71553911205074\n",
      "Accuracy score : \n",
      "\t 0.71553911205074\n",
      "F1 Score : \n",
      "\t 0.7123463388562266\n",
      "Classification Report:\n",
      "               precision    recall  f1-score   support\n",
      "\n",
      "           0       0.70      0.74      0.72      4645\n",
      "           1       0.73      0.69      0.71      4815\n",
      "\n",
      "    accuracy                           0.72      9460\n",
      "   macro avg       0.72      0.72      0.72      9460\n",
      "weighted avg       0.72      0.72      0.72      9460\n",
      "\n"
     ]
    }
   ],
   "source": [
    "print(\"Confusion Matrix : \\n\", cm)\n",
    "print(\"r2 score : \\n\\t\",dec_tree.score(X_test, y_test))\n",
    "print(\"Accuracy score : \\n\\t\",accuracy_score(y_test, y_pred))  \n",
    "print(\"F1 Score : \\n\\t\", f1_score(y_test, y_pred))\n",
    "print(\"Classification Report:\\n\", classification_report (y_test, y_pred))"
   ]
  },
  {
   "cell_type": "markdown",
   "id": "09153d58",
   "metadata": {},
   "source": [
    "Comparing the models found that `RandomForestClassifier` is better performing than the `Decision Tree model`"
   ]
  },
  {
   "cell_type": "markdown",
   "id": "9b65e1ee",
   "metadata": {},
   "source": [
    "#### Important Features in the model"
   ]
  },
  {
   "cell_type": "code",
   "execution_count": 335,
   "id": "c691a5dc",
   "metadata": {
    "scrolled": true
   },
   "outputs": [
    {
     "data": {
      "text/plain": [
       "Text(0.5, 0, 'Random Forest Feature Importance')"
      ]
     },
     "execution_count": 335,
     "metadata": {},
     "output_type": "execute_result"
    },
    {
     "data": {
      "image/png": "[encoded data removed]",
      "text/plain": [
       "<Figure size 720x504 with 1 Axes>"
      ]
     },
     "metadata": {
      "needs_background": "light"
     },
     "output_type": "display_data"
    }
   ],
   "source": [
    "sorted_idx = rf.feature_importances_.argsort()[-15:]\n",
    "plt.figure(figsize=(10,7))\n",
    "plt.barh(X.columns[sorted_idx], rf.feature_importances_[sorted_idx])\n",
    "plt.xlabel(\"Random Forest Feature Importance\")"
   ]
  }
 ],
 "metadata": {
  "kernelspec": {
   "display_name": "Python 3 (ipykernel)",
   "language": "python",
   "name": "python3"
  },
  "language_info": {
   "codemirror_mode": {
    "name": "ipython",
    "version": 3
   },
   "file_extension": ".py",
   "mimetype": "text/x-python",
   "name": "python",
   "nbconvert_exporter": "python",
   "pygments_lexer": "ipython3",
   "version": "3.9.7"
  }
 },
 "nbformat": 4,
 "nbformat_minor": 5
}
